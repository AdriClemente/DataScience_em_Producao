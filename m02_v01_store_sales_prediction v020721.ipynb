{
 "cells": [
  {
   "cell_type": "markdown",
   "id": "5b236214",
   "metadata": {},
   "source": [
    "# 0.0. IMPORTS"
   ]
  },
  {
   "cell_type": "code",
   "execution_count": 1,
   "id": "f4c72113",
   "metadata": {
    "ExecuteTime": {
     "end_time": "2021-07-03T02:11:37.436848Z",
     "start_time": "2021-07-03T02:11:16.362577Z"
    }
   },
   "outputs": [],
   "source": [
    "import math\n",
    "import pandas as pd\n",
    "import inflection\n",
    "import numpy as np\n",
    "from numpy import int64\n",
    "import seaborn as sns\n",
    "from matplotlib import pyplot as plt\n",
    "from matplotlib import gridspec"
   ]
  },
  {
   "cell_type": "markdown",
   "id": "9c4ff8eb",
   "metadata": {},
   "source": [
    "## 0.1. Helper Funcions"
   ]
  },
  {
   "cell_type": "markdown",
   "id": "18175d15",
   "metadata": {},
   "source": [
    "## 0.2 Loading Data"
   ]
  },
  {
   "cell_type": "code",
   "execution_count": 2,
   "id": "62d07e01",
   "metadata": {
    "ExecuteTime": {
     "end_time": "2021-07-03T02:11:38.745125Z",
     "start_time": "2021-07-03T02:11:37.436848Z"
    }
   },
   "outputs": [],
   "source": [
    "# low memory = False significa que vai carregar todo o arquivo em memória. Caso tenho restrição com memória,\n",
    "# low_memory=True carrega chunks do arquivo na memória.\n",
    "df_sales_raw = pd.read_csv('data/train.csv', low_memory=False)\n",
    "df_store_raw = pd.read_csv('data/store.csv', low_memory=False)\n",
    "\n",
    "# Realiza o merge dos dois datasets df_sales_raw e df_store_raw. O atributo on='Store' define que a coluna Store é \n",
    "# a coluna que aparece em ambos os datasets e será utilizado como chave para fazer o merge.\n",
    "df_raw = pd.merge(df_sales_raw, df_store_raw, how='left', on='Store')"
   ]
  },
  {
   "cell_type": "code",
   "execution_count": 3,
   "id": "fc4f34c7",
   "metadata": {
    "ExecuteTime": {
     "end_time": "2021-07-03T02:11:38.965740Z",
     "start_time": "2021-07-03T02:11:38.746158Z"
    }
   },
   "outputs": [
    {
     "data": {
      "text/html": [
       "<div>\n",
       "<style scoped>\n",
       "    .dataframe tbody tr th:only-of-type {\n",
       "        vertical-align: middle;\n",
       "    }\n",
       "\n",
       "    .dataframe tbody tr th {\n",
       "        vertical-align: top;\n",
       "    }\n",
       "\n",
       "    .dataframe thead th {\n",
       "        text-align: right;\n",
       "    }\n",
       "</style>\n",
       "<table border=\"1\" class=\"dataframe\">\n",
       "  <thead>\n",
       "    <tr style=\"text-align: right;\">\n",
       "      <th></th>\n",
       "      <th>Store</th>\n",
       "      <th>DayOfWeek</th>\n",
       "      <th>Date</th>\n",
       "      <th>Sales</th>\n",
       "      <th>Customers</th>\n",
       "      <th>Open</th>\n",
       "      <th>Promo</th>\n",
       "      <th>StateHoliday</th>\n",
       "      <th>SchoolHoliday</th>\n",
       "      <th>StoreType</th>\n",
       "      <th>Assortment</th>\n",
       "      <th>CompetitionDistance</th>\n",
       "      <th>CompetitionOpenSinceMonth</th>\n",
       "      <th>CompetitionOpenSinceYear</th>\n",
       "      <th>Promo2</th>\n",
       "      <th>Promo2SinceWeek</th>\n",
       "      <th>Promo2SinceYear</th>\n",
       "      <th>PromoInterval</th>\n",
       "    </tr>\n",
       "  </thead>\n",
       "  <tbody>\n",
       "    <tr>\n",
       "      <th>852253</th>\n",
       "      <td>64</td>\n",
       "      <td>2</td>\n",
       "      <td>2013-05-28</td>\n",
       "      <td>9709</td>\n",
       "      <td>704</td>\n",
       "      <td>1</td>\n",
       "      <td>1</td>\n",
       "      <td>0</td>\n",
       "      <td>0</td>\n",
       "      <td>d</td>\n",
       "      <td>c</td>\n",
       "      <td>22560.0</td>\n",
       "      <td>NaN</td>\n",
       "      <td>NaN</td>\n",
       "      <td>1</td>\n",
       "      <td>14.0</td>\n",
       "      <td>2013.0</td>\n",
       "      <td>Jan,Apr,Jul,Oct</td>\n",
       "    </tr>\n",
       "  </tbody>\n",
       "</table>\n",
       "</div>"
      ],
      "text/plain": [
       "        Store  DayOfWeek        Date  Sales  Customers  Open  Promo  \\\n",
       "852253     64          2  2013-05-28   9709        704     1      1   \n",
       "\n",
       "       StateHoliday  SchoolHoliday StoreType Assortment  CompetitionDistance  \\\n",
       "852253            0              0         d          c              22560.0   \n",
       "\n",
       "        CompetitionOpenSinceMonth  CompetitionOpenSinceYear  Promo2  \\\n",
       "852253                        NaN                       NaN       1   \n",
       "\n",
       "        Promo2SinceWeek  Promo2SinceYear    PromoInterval  \n",
       "852253             14.0           2013.0  Jan,Apr,Jul,Oct  "
      ]
     },
     "execution_count": 3,
     "metadata": {},
     "output_type": "execute_result"
    }
   ],
   "source": [
    "# O comando sample exibe uma linha aleatória do dataset.\n",
    "df_raw.sample()"
   ]
  },
  {
   "cell_type": "markdown",
   "id": "334b7fc5",
   "metadata": {},
   "source": [
    "# 1.0 DESCRIÇÃO DOS DADOS"
   ]
  },
  {
   "cell_type": "code",
   "execution_count": 4,
   "id": "0bc3308d",
   "metadata": {
    "ExecuteTime": {
     "end_time": "2021-07-03T02:11:39.043529Z",
     "start_time": "2021-07-03T02:11:38.967735Z"
    }
   },
   "outputs": [],
   "source": [
    "# É recomendado realizar uma cópia do dataset em cada um das seçoes do Jupyter Notebook, pois se o notebook tem muitas seções\n",
    "# e em um exemplo onde estamos na última seção e reescrevemos os dados originais e ocorre um erro. Neste caso para recuperarmos\n",
    "# os dados originais, temos que voltar na primeira seção do Jupyter Notebook e executar todas as linhas até o final.\n",
    "# Para evitar este problema é recomendado criar uma cópia do dataset em cada seção.\n",
    "df1 = df_raw.copy()"
   ]
  },
  {
   "cell_type": "markdown",
   "id": "2c7fcb22",
   "metadata": {},
   "source": [
    "## 1.1 Rename Columns"
   ]
  },
  {
   "cell_type": "code",
   "execution_count": 5,
   "id": "308266d9",
   "metadata": {
    "ExecuteTime": {
     "end_time": "2021-07-03T02:11:39.059490Z",
     "start_time": "2021-07-03T02:11:39.045369Z"
    }
   },
   "outputs": [
    {
     "data": {
      "text/plain": [
       "Index(['Store', 'DayOfWeek', 'Date', 'Sales', 'Customers', 'Open', 'Promo',\n",
       "       'StateHoliday', 'SchoolHoliday', 'StoreType', 'Assortment',\n",
       "       'CompetitionDistance', 'CompetitionOpenSinceMonth',\n",
       "       'CompetitionOpenSinceYear', 'Promo2', 'Promo2SinceWeek',\n",
       "       'Promo2SinceYear', 'PromoInterval'],\n",
       "      dtype='object')"
      ]
     },
     "execution_count": 5,
     "metadata": {},
     "output_type": "execute_result"
    }
   ],
   "source": [
    "# Exibe as colunas do dataset df1, no formato original CamelCase.\n",
    "df1.columns"
   ]
  },
  {
   "cell_type": "code",
   "execution_count": 6,
   "id": "f75ffc38",
   "metadata": {
    "ExecuteTime": {
     "end_time": "2021-07-03T02:11:39.075256Z",
     "start_time": "2021-07-03T02:11:39.060304Z"
    }
   },
   "outputs": [],
   "source": [
    "# Cria uma lista com os nomes originais das colunas.\n",
    "cols_old = ['Store', 'DayOfWeek', 'Date', 'Sales', 'Customers', 'Open', 'Promo', 'StateHoliday', 'SchoolHoliday', 'StoreType',\n",
    "            'Assortment', 'CompetitionDistance', 'CompetitionOpenSinceMonth', 'CompetitionOpenSinceYear', 'Promo2',\n",
    "            'Promo2SinceWeek', 'Promo2SinceYear', 'PromoInterval']\n",
    "\n",
    "# Altera o estilo dos nomes das colunas de CamelCase para SnakeCase utilizando a função abaixo.\n",
    "snakecase = lambda x: inflection.underscore(x)\n",
    "\n",
    "# A função map executa a função snakecase em todas as palavras da lista cols_old. A saída desta função é convertida em uma \n",
    "# lista e armazenada na lista cols_new.\n",
    "cols_new = list(map(snakecase, cols_old))\n",
    "\n",
    "# Renomeia o nome das colunas no dataset df1.\n",
    "df1.columns = cols_new"
   ]
  },
  {
   "cell_type": "code",
   "execution_count": 7,
   "id": "b72f347d",
   "metadata": {
    "ExecuteTime": {
     "end_time": "2021-07-03T02:11:39.091249Z",
     "start_time": "2021-07-03T02:11:39.076256Z"
    }
   },
   "outputs": [
    {
     "data": {
      "text/plain": [
       "Index(['store', 'day_of_week', 'date', 'sales', 'customers', 'open', 'promo',\n",
       "       'state_holiday', 'school_holiday', 'store_type', 'assortment',\n",
       "       'competition_distance', 'competition_open_since_month',\n",
       "       'competition_open_since_year', 'promo2', 'promo2_since_week',\n",
       "       'promo2_since_year', 'promo_interval'],\n",
       "      dtype='object')"
      ]
     },
     "execution_count": 7,
     "metadata": {},
     "output_type": "execute_result"
    }
   ],
   "source": [
    "# Exibe o nome das colunas do dataset df1 no formato alterado snakecase.\n",
    "df1.columns"
   ]
  },
  {
   "cell_type": "markdown",
   "id": "840539a4",
   "metadata": {},
   "source": [
    "## 1.2 Data Dimensions"
   ]
  },
  {
   "cell_type": "code",
   "execution_count": 8,
   "id": "0898abb5",
   "metadata": {
    "ExecuteTime": {
     "end_time": "2021-07-03T02:11:39.107197Z",
     "start_time": "2021-07-03T02:11:39.093208Z"
    }
   },
   "outputs": [
    {
     "name": "stdout",
     "output_type": "stream",
     "text": [
      "Number of rows: 1017209\n",
      "Number of columns: 18\n"
     ]
    }
   ],
   "source": [
    "print('Number of rows: {}'.format(df1.shape[0]))\n",
    "print('Number of columns: {}'.format(df1.shape[1]))"
   ]
  },
  {
   "cell_type": "markdown",
   "id": "4d9ae7b4",
   "metadata": {},
   "source": [
    "## 1.3 Data Types"
   ]
  },
  {
   "cell_type": "code",
   "execution_count": 9,
   "id": "5bc61b7e",
   "metadata": {
    "ExecuteTime": {
     "end_time": "2021-07-03T02:11:39.123052Z",
     "start_time": "2021-07-03T02:11:39.110165Z"
    }
   },
   "outputs": [
    {
     "data": {
      "text/plain": [
       "store                             int64\n",
       "day_of_week                       int64\n",
       "date                             object\n",
       "sales                             int64\n",
       "customers                         int64\n",
       "open                              int64\n",
       "promo                             int64\n",
       "state_holiday                    object\n",
       "school_holiday                    int64\n",
       "store_type                       object\n",
       "assortment                       object\n",
       "competition_distance            float64\n",
       "competition_open_since_month    float64\n",
       "competition_open_since_year     float64\n",
       "promo2                            int64\n",
       "promo2_since_week               float64\n",
       "promo2_since_year               float64\n",
       "promo_interval                   object\n",
       "dtype: object"
      ]
     },
     "execution_count": 9,
     "metadata": {},
     "output_type": "execute_result"
    }
   ],
   "source": [
    "df1.dtypes"
   ]
  },
  {
   "cell_type": "code",
   "execution_count": 10,
   "id": "03f35f8a",
   "metadata": {
    "ExecuteTime": {
     "end_time": "2021-07-03T02:11:39.281606Z",
     "start_time": "2021-07-03T02:11:39.124023Z"
    }
   },
   "outputs": [],
   "source": [
    "# Altera o tipo dos valore da coluna date de object (string) para data.\n",
    "df1['date'] = pd.to_datetime(df1['date'])"
   ]
  },
  {
   "cell_type": "code",
   "execution_count": 11,
   "id": "35b7263e",
   "metadata": {
    "ExecuteTime": {
     "end_time": "2021-07-03T02:11:39.297434Z",
     "start_time": "2021-07-03T02:11:39.282885Z"
    }
   },
   "outputs": [
    {
     "data": {
      "text/plain": [
       "store                                    int64\n",
       "day_of_week                              int64\n",
       "date                            datetime64[ns]\n",
       "sales                                    int64\n",
       "customers                                int64\n",
       "open                                     int64\n",
       "promo                                    int64\n",
       "state_holiday                           object\n",
       "school_holiday                           int64\n",
       "store_type                              object\n",
       "assortment                              object\n",
       "competition_distance                   float64\n",
       "competition_open_since_month           float64\n",
       "competition_open_since_year            float64\n",
       "promo2                                   int64\n",
       "promo2_since_week                      float64\n",
       "promo2_since_year                      float64\n",
       "promo_interval                          object\n",
       "dtype: object"
      ]
     },
     "execution_count": 11,
     "metadata": {},
     "output_type": "execute_result"
    }
   ],
   "source": [
    "df1.dtypes "
   ]
  },
  {
   "cell_type": "markdown",
   "id": "6551285c",
   "metadata": {},
   "source": [
    "## 1.4 Check NA"
   ]
  },
  {
   "cell_type": "code",
   "execution_count": 12,
   "id": "1a67121e",
   "metadata": {
    "ExecuteTime": {
     "end_time": "2021-07-03T02:11:39.557770Z",
     "start_time": "2021-07-03T02:11:39.298432Z"
    }
   },
   "outputs": [
    {
     "data": {
      "text/plain": [
       "store                                0\n",
       "day_of_week                          0\n",
       "date                                 0\n",
       "sales                                0\n",
       "customers                            0\n",
       "open                                 0\n",
       "promo                                0\n",
       "state_holiday                        0\n",
       "school_holiday                       0\n",
       "store_type                           0\n",
       "assortment                           0\n",
       "competition_distance              2642\n",
       "competition_open_since_month    323348\n",
       "competition_open_since_year     323348\n",
       "promo2                               0\n",
       "promo2_since_week               508031\n",
       "promo2_since_year               508031\n",
       "promo_interval                  508031\n",
       "dtype: int64"
      ]
     },
     "execution_count": 12,
     "metadata": {},
     "output_type": "execute_result"
    }
   ],
   "source": [
    "# O método isna exibe todas as linhas que possuem valores vazios. O método sum exibe a quantidade de linhas que possuem \n",
    "# valores vazios / NA(não aplicável).\n",
    "df1.isna().sum()"
   ]
  },
  {
   "cell_type": "markdown",
   "id": "99e161e6",
   "metadata": {},
   "source": [
    "## 1.5 Fillout NA"
   ]
  },
  {
   "cell_type": "markdown",
   "id": "75f80183",
   "metadata": {
    "ExecuteTime": {
     "end_time": "2021-06-23T19:05:48.104987Z",
     "start_time": "2021-06-23T19:05:48.092325Z"
    }
   },
   "source": [
    "### 1.5.1. competition_distance"
   ]
  },
  {
   "cell_type": "code",
   "execution_count": 13,
   "id": "30c10762",
   "metadata": {
    "ExecuteTime": {
     "end_time": "2021-07-03T02:11:39.621108Z",
     "start_time": "2021-07-03T02:11:39.558767Z"
    }
   },
   "outputs": [
    {
     "name": "stdout",
     "output_type": "stream",
     "text": [
      "75860.0\n"
     ]
    }
   ],
   "source": [
    "# competition_distance\n",
    "# No site do Kagle temos a seguinte definição para esta coluna: distance in meter to the nearest competitor store.\n",
    "# Iremos verificar no dataset qual é a distância em metros do competidor mais distante.\n",
    "print(df1['competition_distance'].max())"
   ]
  },
  {
   "cell_type": "code",
   "execution_count": 14,
   "id": "1f3f61de",
   "metadata": {
    "ExecuteTime": {
     "end_time": "2021-07-03T02:11:40.119874Z",
     "start_time": "2021-07-03T02:11:39.624051Z"
    }
   },
   "outputs": [],
   "source": [
    "# O valor em metros do competidor mais distante é 75860.\n",
    "# Então iremos assumir para os valores NA, um valor muito mais distante do que o competidor mais distante no nosso dataset.\n",
    "# Neste caso, iremos considerar um valor de 200000 para os valores NA/vazio.\n",
    "\n",
    "# O método math.isnan retorna se um valor em uma coluna específica é NA/vazio.\n",
    "# No exemplo abaixo, temos uma condição onde se o valor da coluna competition_distance for vazio, substitui pelo valor 200000.0.\n",
    "# 200000.0 if math.isnan (df1['competition_distance']) else df1['competition_distance']\n",
    "\n",
    "# Para aplicarmos esta condição em todo o dataset, temos que utilizar as funções apply e lambda, conforme exemplo abaixo:\n",
    "df1['competition_distance'] = df1['competition_distance'].apply(lambda x: 200000.0 if math.isnan(x) else x)"
   ]
  },
  {
   "cell_type": "code",
   "execution_count": 15,
   "id": "9d04bff1",
   "metadata": {
    "ExecuteTime": {
     "end_time": "2021-07-03T02:11:40.320938Z",
     "start_time": "2021-07-03T02:11:40.121868Z"
    }
   },
   "outputs": [
    {
     "name": "stdout",
     "output_type": "stream",
     "text": [
      "200000.0\n"
     ]
    },
    {
     "data": {
      "text/plain": [
       "store                                0\n",
       "day_of_week                          0\n",
       "date                                 0\n",
       "sales                                0\n",
       "customers                            0\n",
       "open                                 0\n",
       "promo                                0\n",
       "state_holiday                        0\n",
       "school_holiday                       0\n",
       "store_type                           0\n",
       "assortment                           0\n",
       "competition_distance                 0\n",
       "competition_open_since_month    323348\n",
       "competition_open_since_year     323348\n",
       "promo2                               0\n",
       "promo2_since_week               508031\n",
       "promo2_since_year               508031\n",
       "promo_interval                  508031\n",
       "dtype: int64"
      ]
     },
     "execution_count": 15,
     "metadata": {},
     "output_type": "execute_result"
    }
   ],
   "source": [
    "# Verificamos agora que o maximo valor da columa competition_distance é 200000.0 e não existe mais valores vazios:\n",
    "print(df1['competition_distance'].max())\n",
    "df1.isna().sum()"
   ]
  },
  {
   "cell_type": "markdown",
   "id": "af3e3295",
   "metadata": {},
   "source": [
    "### 1.5.2. competition_open_since_month"
   ]
  },
  {
   "cell_type": "code",
   "execution_count": 16,
   "id": "1085c996",
   "metadata": {
    "ExecuteTime": {
     "end_time": "2021-07-03T02:11:40.337031Z",
     "start_time": "2021-07-03T02:11:40.322933Z"
    }
   },
   "outputs": [],
   "source": [
    "# competition_open_since_month\n",
    "# No site do Kagle temos a seguinte definição para esta coluna: gives the approximate year and month of the time the nearest\n",
    "# competitor was opened.\n",
    "# O valor pode estar vazio porque não possui competidor, ou porque não sabemos a data de abertura do concorrente (pode ter\n",
    "# sido aberta antes da inauguração da nossa loja, ou abriu depois mas alguém esqueceu de anotar.)\n",
    "# Iremos então assumir como premissa, o valor do mês da coluna date. Iremos fazer isto pensando na etapa de feature engineering.\n",
    "# Por exemplo, quanto tempo faz que um evento ocorreu? Iremos manter este valor na coluna, pois um competidor influencia no \n",
    "# volume de vendas. Quando um competidor abre recentemente, o volume de vendas na nossa loja cai. Com o tempo, as vendasB\n",
    "# no nossa loja aumentam, porém não vão retornar ao patamar antes da inauguração do competidor.\n",
    "# Assumir o valor do mês do campo date pode não ter lógica, pois temos a influência do campo competition_distance.\n",
    "# Não sabemos se esta premissa vai funcionar, por isso, utilizamos o CRISP. Na primeira iteração do CRISP, iremos utilizar\n",
    "# esta premissa. Se o algoritmos não performar bem, no próximo ciclo do CRISP, talvez podemos alterar esta premisa para\n",
    "# esta coluna.\n",
    "\n",
    "# O método math.isnan retorna se um valor em uma coluna específica é NA/vazio.\n",
    "# No exemplo abaixo, temos uma condição onde se o valor da coluna competition_open_since_month for vazio, substitui pelo valor\n",
    "# da coluna data.\n",
    "# df1['date'].month if math.isnan (df1['competition_open_since_month']) else df1['competition_open_since_month']\n",
    "\n",
    "# Para aplicarmos esta condição em todo o dataset, temos que utilizar as funções apply e lambda, conforme exemplo abaixo:"
   ]
  },
  {
   "cell_type": "code",
   "execution_count": 17,
   "id": "7d7ce06e",
   "metadata": {
    "ExecuteTime": {
     "end_time": "2021-07-03T02:11:55.738527Z",
     "start_time": "2021-07-03T02:11:40.338949Z"
    }
   },
   "outputs": [],
   "source": [
    "# Quando utilizamos mais de uma coluna, temos que especificar para a função apply que iremos aplicar os valores ao longo das\n",
    "# colunas, utilizando o atributo axis=1.\n",
    "df1['competition_open_since_month'] = df1.apply(lambda x: x['date'].month if math.isnan(x['competition_open_since_month']) else x['competition_open_since_month'], axis = 1)"
   ]
  },
  {
   "cell_type": "markdown",
   "id": "f2b52f38",
   "metadata": {
    "ExecuteTime": {
     "end_time": "2021-06-28T11:42:38.868654Z",
     "start_time": "2021-06-28T11:42:38.863667Z"
    }
   },
   "source": [
    "### 1.5.3. competition_open_since_year"
   ]
  },
  {
   "cell_type": "code",
   "execution_count": 18,
   "id": "9485bb6c",
   "metadata": {
    "ExecuteTime": {
     "end_time": "2021-07-03T02:11:55.753259Z",
     "start_time": "2021-07-03T02:11:55.743283Z"
    }
   },
   "outputs": [],
   "source": [
    "# competition_open_since_year\n",
    "# No site do Kagle temos a seguinte definição para esta coluna: gives the approximate year and month of the time the nearest\n",
    "# competitor was opened.\n",
    "# O valor pode estar vazio porque não possui competidor, ou porque não sabemos a data de abertura do concorrente (pode ter\n",
    "# sido aberta antes da inauguração da nossa loja, ou abriu depois mas alguém esqueceu de anotar.)\n",
    "# Iremos então assumir como premissa, o valor do ano da coluna date. Iremos fazer isto pensando na etapa de feature engineering.\n",
    "# Por exemplo, quanto tempo faz que um evento ocorreu? Iremos manter este valor na coluna, pois um competidor influencia no \n",
    "# volume de vendas. Quando um competidor abre recentemente, o volume de vendas na nossa loja cai. Com o tempo, as vendasB\n",
    "# no nossa loja aumentam, porém não vão retornar ao patamar antes da inauguração do competidor.\n",
    "# Assumir o valor do ano do campo date pode não ter lógica, pois temos a influência do campo competition_distance.\n",
    "# Não sabemos se esta premissa vai funcionar, por isso, utilizamos o CRISP. Na primeira iteração do CRISP, iremos utilizar\n",
    "# esta premissa. Se o algoritmos não performar bem, no próximo ciclo do CRISP, talvez podemos alterar esta premisa para\n",
    "# esta coluna.\n",
    "\n",
    "# O método math.isnan retorna se um valor em uma coluna específica é NA/vazio.\n",
    "# No exemplo abaixo, temos uma condição onde se o valor da coluna competition_open_since_year for vazio, substitui pelo valor\n",
    "# da coluna data.\n",
    "# df1['date'].year if math.isnan (df1['competition_open_since_year']) else df1['competition_open_since_year']\n",
    "\n",
    "# Para aplicarmos esta condição em todo o dataset, temos que utilizar as funções apply e lambda, conforme exemplo abaixo:"
   ]
  },
  {
   "cell_type": "code",
   "execution_count": 19,
   "id": "5a3e675f",
   "metadata": {
    "ExecuteTime": {
     "end_time": "2021-07-03T02:12:11.314790Z",
     "start_time": "2021-07-03T02:11:55.758249Z"
    }
   },
   "outputs": [],
   "source": [
    "# Quando utilizamos mais de uma coluna, temos que especificar para a função apply que iremos aplicar os valores ao longo das\n",
    "# colunas, utilizando o atributo axis=1.\n",
    "df1['competition_open_since_year'] = df1.apply(lambda x: x['date'].year if math.isnan(x['competition_open_since_year']) else x['competition_open_since_year'], axis = 1)"
   ]
  },
  {
   "cell_type": "markdown",
   "id": "9544cd32",
   "metadata": {
    "ExecuteTime": {
     "end_time": "2021-06-28T11:50:28.280600Z",
     "start_time": "2021-06-28T11:50:28.271066Z"
    }
   },
   "source": [
    "### 1.5.4. promo2_since_week"
   ]
  },
  {
   "cell_type": "code",
   "execution_count": 20,
   "id": "bb617fc1",
   "metadata": {
    "ExecuteTime": {
     "end_time": "2021-07-03T02:12:11.330017Z",
     "start_time": "2021-07-03T02:12:11.314790Z"
    }
   },
   "outputs": [],
   "source": [
    "# promo2_since_week.\n",
    "# # No site do Kagle temos a seguinte definição para esta coluna: describes the year and calendar week when the store started\n",
    "# participating in Promo2.\n",
    "# Iremos substituir os valores faltantes pelo valor de week da coluna date.\n",
    "\n",
    "# O método math.isnan retorna se um valor em uma coluna específica é NA/vazio.\n",
    "# No exemplo abaixo, temos uma condição onde se o valor da coluna promo2_since_week for vazio, substitui pelo valor da coluna\n",
    "# data.\n",
    "# df1['date'].week if math.isnan (df1['promo2_since_week']) else df1['promo2_since_week']\n",
    "\n",
    "# Para aplicarmos esta condição em todo o dataset, temos que utilizar as funções apply e lambda, conforme exemplo abaixo:"
   ]
  },
  {
   "cell_type": "code",
   "execution_count": 21,
   "id": "dff312de",
   "metadata": {
    "ExecuteTime": {
     "end_time": "2021-07-03T02:12:26.977287Z",
     "start_time": "2021-07-03T02:12:11.332047Z"
    }
   },
   "outputs": [],
   "source": [
    "# Quando utilizamos mais de uma coluna, temos que especificar para a função apply que iremos aplicar os valores ao longo das\n",
    "# colunas, utilizando o atributo axis=1.\n",
    "df1['promo2_since_week'] = df1.apply(lambda x: x['date'].week if math.isnan(x['promo2_since_week']) else x['promo2_since_week'], axis = 1)"
   ]
  },
  {
   "cell_type": "markdown",
   "id": "e3523671",
   "metadata": {
    "ExecuteTime": {
     "end_time": "2021-06-28T12:04:38.509870Z",
     "start_time": "2021-06-28T12:04:38.496400Z"
    }
   },
   "source": [
    "### 1.5.5. promo2_since_year"
   ]
  },
  {
   "cell_type": "code",
   "execution_count": 22,
   "id": "680db06d",
   "metadata": {
    "ExecuteTime": {
     "end_time": "2021-07-03T02:12:26.993287Z",
     "start_time": "2021-07-03T02:12:26.979287Z"
    }
   },
   "outputs": [],
   "source": [
    "# promo2_since_year.\n",
    "# # No site do Kagle temos a seguinte definição para esta coluna: describes the year and calendar week when the store started\n",
    "# participating in Promo2.\n",
    "# Iremos substituir os valores faltantes pelo valor de year da coluna date.\n",
    "\n",
    "# O método math.isnan retorna se um valor em uma coluna específica é NA/vazio.\n",
    "# No exemplo abaixo, temos uma condição onde se o valor da coluna promo2_since_year for vazio, substitui pelo valor da coluna\n",
    "# data.\n",
    "# df1['date'].year if math.isnan (df1['promo2_since_year']) else df1['promo2_since_year']\n",
    "\n",
    "# Para aplicarmos esta condição em todo o dataset, temos que utilizar as funções apply e lambda, conforme exemplo abaixo:"
   ]
  },
  {
   "cell_type": "code",
   "execution_count": 23,
   "id": "e8578c3d",
   "metadata": {
    "ExecuteTime": {
     "end_time": "2021-07-03T02:12:42.988160Z",
     "start_time": "2021-07-03T02:12:26.999232Z"
    }
   },
   "outputs": [],
   "source": [
    "# Quando utilizamos mais de uma coluna, temos que especificar para a função apply que iremos aplicar os valores ao longo das\n",
    "# colunas, utilizando o atributo axis=1.\n",
    "df1['promo2_since_year'] = df1.apply(lambda x: x['date'].year if math.isnan(x['promo2_since_year']) else x['promo2_since_year'], axis = 1)"
   ]
  },
  {
   "cell_type": "markdown",
   "id": "7aede001",
   "metadata": {
    "ExecuteTime": {
     "end_time": "2021-06-28T12:04:38.509870Z",
     "start_time": "2021-06-28T12:04:38.496400Z"
    }
   },
   "source": [
    "### 1.5.6. promo_interval"
   ]
  },
  {
   "cell_type": "code",
   "execution_count": 24,
   "id": "42e4d6bf",
   "metadata": {
    "ExecuteTime": {
     "end_time": "2021-07-03T02:12:43.003419Z",
     "start_time": "2021-07-03T02:12:42.990264Z"
    }
   },
   "outputs": [],
   "source": [
    "# promo_interval.\n",
    "# # No site do Kagle temos a seguinte definição para esta coluna: describes the consecutive intervals Promo2 is started,\n",
    "# naming the months the promotion is started anew. E.g. \"Feb,May,Aug,Nov\" means each round starts in February, May, August,\n",
    "# November of any given year for that store.\n",
    "\n",
    "# Será criada uma coluna is_promo atribuindo o valor 0 quando a loja não participou da promoção. Caso contrário será atribuído\n",
    "# o valor 1."
   ]
  },
  {
   "cell_type": "code",
   "execution_count": 25,
   "id": "6b6ee2d5",
   "metadata": {
    "ExecuteTime": {
     "end_time": "2021-07-03T02:12:43.019219Z",
     "start_time": "2021-07-03T02:12:43.004251Z"
    }
   },
   "outputs": [],
   "source": [
    "#Cria uma dicionário com os valores e nomes dos meses.\n",
    "month_map = {1:'Jan', 2:'Feb', 3:'Mar', 4:'Apr', 5:'May', 6:'Jun', 7:'Jul', 8:'Aug', 9:'Sept', 10:'Oct', 11:'Nov', 12:'Dec'}"
   ]
  },
  {
   "cell_type": "code",
   "execution_count": 26,
   "id": "db12f802",
   "metadata": {
    "ExecuteTime": {
     "end_time": "2021-07-03T02:12:43.081997Z",
     "start_time": "2021-07-03T02:12:43.020392Z"
    }
   },
   "outputs": [],
   "source": [
    "# Se o valor da coluna promo_interval for NA/vazio, atribui o valor 0.\n",
    "df1['promo_interval'].fillna(0, inplace=True) # inplace=True não exibe o resultado na tela."
   ]
  },
  {
   "cell_type": "code",
   "execution_count": 27,
   "id": "779c1e2a",
   "metadata": {
    "ExecuteTime": {
     "end_time": "2021-07-03T02:12:43.221492Z",
     "start_time": "2021-07-03T02:12:43.083992Z"
    }
   },
   "outputs": [],
   "source": [
    "# O comando abaixo cria uma coluna month_map, onde iremos abribuir o valor do mês do dicionário month_map de acordo com o \n",
    "# valor do mês que se encontra na coluna date.\n",
    "df1['month_map'] = df1['date'].dt.month.map(month_map)"
   ]
  },
  {
   "cell_type": "code",
   "execution_count": 28,
   "id": "175fad6f",
   "metadata": {
    "ExecuteTime": {
     "end_time": "2021-07-03T02:12:43.237288Z",
     "start_time": "2021-07-03T02:12:43.222769Z"
    }
   },
   "outputs": [],
   "source": [
    "# Podemos realizar a mesma operação utilizando o comando abaixo:\n",
    "# df1['month_map'] = df1['date'].dt.month.apply(lambda x: calendar.month_abbr[x])\n",
    "# Porém, o tempo de execução é bem maior do que o comando: df1['month_map'] = df1['date'].dt.month.map(month_map)."
   ]
  },
  {
   "cell_type": "code",
   "execution_count": 29,
   "id": "9970e9a1",
   "metadata": {
    "ExecuteTime": {
     "end_time": "2021-07-03T02:12:43.346648Z",
     "start_time": "2021-07-03T02:12:43.238247Z"
    }
   },
   "outputs": [
    {
     "data": {
      "text/html": [
       "<div>\n",
       "<style scoped>\n",
       "    .dataframe tbody tr th:only-of-type {\n",
       "        vertical-align: middle;\n",
       "    }\n",
       "\n",
       "    .dataframe tbody tr th {\n",
       "        vertical-align: top;\n",
       "    }\n",
       "\n",
       "    .dataframe thead th {\n",
       "        text-align: right;\n",
       "    }\n",
       "</style>\n",
       "<table border=\"1\" class=\"dataframe\">\n",
       "  <thead>\n",
       "    <tr style=\"text-align: right;\">\n",
       "      <th></th>\n",
       "      <th>324054</th>\n",
       "      <th>682318</th>\n",
       "      <th>505832</th>\n",
       "      <th>511190</th>\n",
       "      <th>684588</th>\n",
       "    </tr>\n",
       "  </thead>\n",
       "  <tbody>\n",
       "    <tr>\n",
       "      <th>store</th>\n",
       "      <td>863</td>\n",
       "      <td>724</td>\n",
       "      <td>408</td>\n",
       "      <td>191</td>\n",
       "      <td>764</td>\n",
       "    </tr>\n",
       "    <tr>\n",
       "      <th>day_of_week</th>\n",
       "      <td>1</td>\n",
       "      <td>1</td>\n",
       "      <td>5</td>\n",
       "      <td>7</td>\n",
       "      <td>6</td>\n",
       "    </tr>\n",
       "    <tr>\n",
       "      <th>date</th>\n",
       "      <td>2014-09-29 00:00:00</td>\n",
       "      <td>2013-10-28 00:00:00</td>\n",
       "      <td>2014-04-04 00:00:00</td>\n",
       "      <td>2014-03-30 00:00:00</td>\n",
       "      <td>2013-10-26 00:00:00</td>\n",
       "    </tr>\n",
       "    <tr>\n",
       "      <th>sales</th>\n",
       "      <td>10006</td>\n",
       "      <td>5735</td>\n",
       "      <td>4721</td>\n",
       "      <td>0</td>\n",
       "      <td>1622</td>\n",
       "    </tr>\n",
       "    <tr>\n",
       "      <th>customers</th>\n",
       "      <td>1095</td>\n",
       "      <td>646</td>\n",
       "      <td>474</td>\n",
       "      <td>0</td>\n",
       "      <td>183</td>\n",
       "    </tr>\n",
       "    <tr>\n",
       "      <th>open</th>\n",
       "      <td>1</td>\n",
       "      <td>1</td>\n",
       "      <td>1</td>\n",
       "      <td>0</td>\n",
       "      <td>1</td>\n",
       "    </tr>\n",
       "    <tr>\n",
       "      <th>promo</th>\n",
       "      <td>1</td>\n",
       "      <td>0</td>\n",
       "      <td>1</td>\n",
       "      <td>0</td>\n",
       "      <td>0</td>\n",
       "    </tr>\n",
       "    <tr>\n",
       "      <th>state_holiday</th>\n",
       "      <td>0</td>\n",
       "      <td>0</td>\n",
       "      <td>0</td>\n",
       "      <td>0</td>\n",
       "      <td>0</td>\n",
       "    </tr>\n",
       "    <tr>\n",
       "      <th>school_holiday</th>\n",
       "      <td>0</td>\n",
       "      <td>1</td>\n",
       "      <td>0</td>\n",
       "      <td>0</td>\n",
       "      <td>0</td>\n",
       "    </tr>\n",
       "    <tr>\n",
       "      <th>store_type</th>\n",
       "      <td>a</td>\n",
       "      <td>d</td>\n",
       "      <td>c</td>\n",
       "      <td>a</td>\n",
       "      <td>a</td>\n",
       "    </tr>\n",
       "    <tr>\n",
       "      <th>assortment</th>\n",
       "      <td>c</td>\n",
       "      <td>c</td>\n",
       "      <td>a</td>\n",
       "      <td>a</td>\n",
       "      <td>c</td>\n",
       "    </tr>\n",
       "    <tr>\n",
       "      <th>competition_distance</th>\n",
       "      <td>21370.0</td>\n",
       "      <td>5900.0</td>\n",
       "      <td>1560.0</td>\n",
       "      <td>1100.0</td>\n",
       "      <td>26490.0</td>\n",
       "    </tr>\n",
       "    <tr>\n",
       "      <th>competition_open_since_month</th>\n",
       "      <td>11.0</td>\n",
       "      <td>10.0</td>\n",
       "      <td>4.0</td>\n",
       "      <td>8.0</td>\n",
       "      <td>10.0</td>\n",
       "    </tr>\n",
       "    <tr>\n",
       "      <th>competition_open_since_year</th>\n",
       "      <td>2010.0</td>\n",
       "      <td>2013.0</td>\n",
       "      <td>2014.0</td>\n",
       "      <td>2013.0</td>\n",
       "      <td>2013.0</td>\n",
       "    </tr>\n",
       "    <tr>\n",
       "      <th>promo2</th>\n",
       "      <td>0</td>\n",
       "      <td>0</td>\n",
       "      <td>1</td>\n",
       "      <td>1</td>\n",
       "      <td>1</td>\n",
       "    </tr>\n",
       "    <tr>\n",
       "      <th>promo2_since_week</th>\n",
       "      <td>40.0</td>\n",
       "      <td>44.0</td>\n",
       "      <td>45.0</td>\n",
       "      <td>40.0</td>\n",
       "      <td>10.0</td>\n",
       "    </tr>\n",
       "    <tr>\n",
       "      <th>promo2_since_year</th>\n",
       "      <td>2014.0</td>\n",
       "      <td>2013.0</td>\n",
       "      <td>2009.0</td>\n",
       "      <td>2014.0</td>\n",
       "      <td>2014.0</td>\n",
       "    </tr>\n",
       "    <tr>\n",
       "      <th>promo_interval</th>\n",
       "      <td>0</td>\n",
       "      <td>0</td>\n",
       "      <td>Feb,May,Aug,Nov</td>\n",
       "      <td>Jan,Apr,Jul,Oct</td>\n",
       "      <td>Mar,Jun,Sept,Dec</td>\n",
       "    </tr>\n",
       "    <tr>\n",
       "      <th>month_map</th>\n",
       "      <td>Sept</td>\n",
       "      <td>Oct</td>\n",
       "      <td>Apr</td>\n",
       "      <td>Mar</td>\n",
       "      <td>Oct</td>\n",
       "    </tr>\n",
       "  </tbody>\n",
       "</table>\n",
       "</div>"
      ],
      "text/plain": [
       "                                           324054               682318  \\\n",
       "store                                         863                  724   \n",
       "day_of_week                                     1                    1   \n",
       "date                          2014-09-29 00:00:00  2013-10-28 00:00:00   \n",
       "sales                                       10006                 5735   \n",
       "customers                                    1095                  646   \n",
       "open                                            1                    1   \n",
       "promo                                           1                    0   \n",
       "state_holiday                                   0                    0   \n",
       "school_holiday                                  0                    1   \n",
       "store_type                                      a                    d   \n",
       "assortment                                      c                    c   \n",
       "competition_distance                      21370.0               5900.0   \n",
       "competition_open_since_month                 11.0                 10.0   \n",
       "competition_open_since_year                2010.0               2013.0   \n",
       "promo2                                          0                    0   \n",
       "promo2_since_week                            40.0                 44.0   \n",
       "promo2_since_year                          2014.0               2013.0   \n",
       "promo_interval                                  0                    0   \n",
       "month_map                                    Sept                  Oct   \n",
       "\n",
       "                                           505832               511190  \\\n",
       "store                                         408                  191   \n",
       "day_of_week                                     5                    7   \n",
       "date                          2014-04-04 00:00:00  2014-03-30 00:00:00   \n",
       "sales                                        4721                    0   \n",
       "customers                                     474                    0   \n",
       "open                                            1                    0   \n",
       "promo                                           1                    0   \n",
       "state_holiday                                   0                    0   \n",
       "school_holiday                                  0                    0   \n",
       "store_type                                      c                    a   \n",
       "assortment                                      a                    a   \n",
       "competition_distance                       1560.0               1100.0   \n",
       "competition_open_since_month                  4.0                  8.0   \n",
       "competition_open_since_year                2014.0               2013.0   \n",
       "promo2                                          1                    1   \n",
       "promo2_since_week                            45.0                 40.0   \n",
       "promo2_since_year                          2009.0               2014.0   \n",
       "promo_interval                    Feb,May,Aug,Nov      Jan,Apr,Jul,Oct   \n",
       "month_map                                     Apr                  Mar   \n",
       "\n",
       "                                           684588  \n",
       "store                                         764  \n",
       "day_of_week                                     6  \n",
       "date                          2013-10-26 00:00:00  \n",
       "sales                                        1622  \n",
       "customers                                     183  \n",
       "open                                            1  \n",
       "promo                                           0  \n",
       "state_holiday                                   0  \n",
       "school_holiday                                  0  \n",
       "store_type                                      a  \n",
       "assortment                                      c  \n",
       "competition_distance                      26490.0  \n",
       "competition_open_since_month                 10.0  \n",
       "competition_open_since_year                2013.0  \n",
       "promo2                                          1  \n",
       "promo2_since_week                            10.0  \n",
       "promo2_since_year                          2014.0  \n",
       "promo_interval                   Mar,Jun,Sept,Dec  \n",
       "month_map                                     Oct  "
      ]
     },
     "execution_count": 29,
     "metadata": {},
     "output_type": "execute_result"
    }
   ],
   "source": [
    "# O comando abaixo exibe 5 amostras de linhas, onde cada amostra é exibida em uma coluna.\n",
    "df1.sample(5).T"
   ]
  },
  {
   "cell_type": "code",
   "execution_count": 30,
   "id": "8934e90c",
   "metadata": {
    "ExecuteTime": {
     "end_time": "2021-07-03T02:12:55.118208Z",
     "start_time": "2021-07-03T02:12:43.348643Z"
    }
   },
   "outputs": [],
   "source": [
    "# É criada uma coluna chamada is_promo.\n",
    "# É criada a seguinte condição: se o valor da coluna promo_interval for igual à 0, será atribuído o valor 0 na coluna is_promo,\n",
    "# significando que ela não está participando da promoção.\n",
    "# Se o valor da coluna promo_interval for diferente de zero, iremos atribuir o valor 1 na coluna is_promo, se algum dos meses\n",
    "# contidos no valor da coluna promo_interval for igual ao valor do mês na coluna month_map. Caso contrário, será atribuído\n",
    "# o valor 0 na coluna is_promo.\n",
    "# É utilizada a função split para criar uma lista com os valores contidos na coluna promo_interval, considerando que os valores\n",
    "# são separados por vírgula.\n",
    "# 0 if df1['promo_interval'] == 0 else 1 if df1['month_map'] in df1['promo_interval'].split(',') else 0\n",
    "\n",
    "# Para aplicarmos esta condição em todo o dataset, temos que utilizar as funções apply e lambda, conforme exemplo abaixo:\n",
    "df1['is_promo'] = df1[['promo_interval', 'month_map']].apply(lambda x: 0 if x['promo_interval'] == 0 else 1 if x['month_map'] in x['promo_interval'].split(',') else 0, axis=1)"
   ]
  },
  {
   "cell_type": "code",
   "execution_count": 31,
   "id": "b2f80644",
   "metadata": {
    "ExecuteTime": {
     "end_time": "2021-07-03T02:12:56.351389Z",
     "start_time": "2021-07-03T02:12:55.118208Z"
    },
    "scrolled": true
   },
   "outputs": [
    {
     "data": {
      "text/html": [
       "<div>\n",
       "<style scoped>\n",
       "    .dataframe tbody tr th:only-of-type {\n",
       "        vertical-align: middle;\n",
       "    }\n",
       "\n",
       "    .dataframe tbody tr th {\n",
       "        vertical-align: top;\n",
       "    }\n",
       "\n",
       "    .dataframe thead th {\n",
       "        text-align: right;\n",
       "    }\n",
       "</style>\n",
       "<table border=\"1\" class=\"dataframe\">\n",
       "  <thead>\n",
       "    <tr style=\"text-align: right;\">\n",
       "      <th></th>\n",
       "      <th>722375</th>\n",
       "      <th>328256</th>\n",
       "      <th>729849</th>\n",
       "      <th>724480</th>\n",
       "      <th>721634</th>\n",
       "    </tr>\n",
       "  </thead>\n",
       "  <tbody>\n",
       "    <tr>\n",
       "      <th>store</th>\n",
       "      <td>641</td>\n",
       "      <td>302</td>\n",
       "      <td>310</td>\n",
       "      <td>516</td>\n",
       "      <td>1015</td>\n",
       "    </tr>\n",
       "    <tr>\n",
       "      <th>day_of_week</th>\n",
       "      <td>7</td>\n",
       "      <td>3</td>\n",
       "      <td>7</td>\n",
       "      <td>5</td>\n",
       "      <td>1</td>\n",
       "    </tr>\n",
       "    <tr>\n",
       "      <th>date</th>\n",
       "      <td>2013-09-22 00:00:00</td>\n",
       "      <td>2014-09-24 00:00:00</td>\n",
       "      <td>2013-09-15 00:00:00</td>\n",
       "      <td>2013-09-20 00:00:00</td>\n",
       "      <td>2013-09-23 00:00:00</td>\n",
       "    </tr>\n",
       "    <tr>\n",
       "      <th>sales</th>\n",
       "      <td>0</td>\n",
       "      <td>2697</td>\n",
       "      <td>2960</td>\n",
       "      <td>3354</td>\n",
       "      <td>6558</td>\n",
       "    </tr>\n",
       "    <tr>\n",
       "      <th>customers</th>\n",
       "      <td>0</td>\n",
       "      <td>239</td>\n",
       "      <td>255</td>\n",
       "      <td>539</td>\n",
       "      <td>520</td>\n",
       "    </tr>\n",
       "    <tr>\n",
       "      <th>open</th>\n",
       "      <td>0</td>\n",
       "      <td>1</td>\n",
       "      <td>1</td>\n",
       "      <td>1</td>\n",
       "      <td>1</td>\n",
       "    </tr>\n",
       "    <tr>\n",
       "      <th>promo</th>\n",
       "      <td>0</td>\n",
       "      <td>0</td>\n",
       "      <td>0</td>\n",
       "      <td>0</td>\n",
       "      <td>1</td>\n",
       "    </tr>\n",
       "    <tr>\n",
       "      <th>state_holiday</th>\n",
       "      <td>0</td>\n",
       "      <td>0</td>\n",
       "      <td>0</td>\n",
       "      <td>0</td>\n",
       "      <td>0</td>\n",
       "    </tr>\n",
       "    <tr>\n",
       "      <th>school_holiday</th>\n",
       "      <td>0</td>\n",
       "      <td>0</td>\n",
       "      <td>0</td>\n",
       "      <td>0</td>\n",
       "      <td>0</td>\n",
       "    </tr>\n",
       "    <tr>\n",
       "      <th>store_type</th>\n",
       "      <td>a</td>\n",
       "      <td>d</td>\n",
       "      <td>a</td>\n",
       "      <td>a</td>\n",
       "      <td>d</td>\n",
       "    </tr>\n",
       "    <tr>\n",
       "      <th>assortment</th>\n",
       "      <td>c</td>\n",
       "      <td>c</td>\n",
       "      <td>c</td>\n",
       "      <td>c</td>\n",
       "      <td>c</td>\n",
       "    </tr>\n",
       "    <tr>\n",
       "      <th>competition_distance</th>\n",
       "      <td>610.0</td>\n",
       "      <td>2190.0</td>\n",
       "      <td>2290.0</td>\n",
       "      <td>20.0</td>\n",
       "      <td>9910.0</td>\n",
       "    </tr>\n",
       "    <tr>\n",
       "      <th>competition_open_since_month</th>\n",
       "      <td>12.0</td>\n",
       "      <td>12.0</td>\n",
       "      <td>9.0</td>\n",
       "      <td>9.0</td>\n",
       "      <td>12.0</td>\n",
       "    </tr>\n",
       "    <tr>\n",
       "      <th>competition_open_since_year</th>\n",
       "      <td>2003.0</td>\n",
       "      <td>2007.0</td>\n",
       "      <td>2013.0</td>\n",
       "      <td>2013.0</td>\n",
       "      <td>2010.0</td>\n",
       "    </tr>\n",
       "    <tr>\n",
       "      <th>promo2</th>\n",
       "      <td>1</td>\n",
       "      <td>1</td>\n",
       "      <td>1</td>\n",
       "      <td>1</td>\n",
       "      <td>1</td>\n",
       "    </tr>\n",
       "    <tr>\n",
       "      <th>promo2_since_week</th>\n",
       "      <td>36.0</td>\n",
       "      <td>9.0</td>\n",
       "      <td>10.0</td>\n",
       "      <td>35.0</td>\n",
       "      <td>9.0</td>\n",
       "    </tr>\n",
       "    <tr>\n",
       "      <th>promo2_since_year</th>\n",
       "      <td>2013.0</td>\n",
       "      <td>2011.0</td>\n",
       "      <td>2014.0</td>\n",
       "      <td>2010.0</td>\n",
       "      <td>2011.0</td>\n",
       "    </tr>\n",
       "    <tr>\n",
       "      <th>promo_interval</th>\n",
       "      <td>Mar,Jun,Sept,Dec</td>\n",
       "      <td>Mar,Jun,Sept,Dec</td>\n",
       "      <td>Mar,Jun,Sept,Dec</td>\n",
       "      <td>Mar,Jun,Sept,Dec</td>\n",
       "      <td>Mar,Jun,Sept,Dec</td>\n",
       "    </tr>\n",
       "    <tr>\n",
       "      <th>month_map</th>\n",
       "      <td>Sept</td>\n",
       "      <td>Sept</td>\n",
       "      <td>Sept</td>\n",
       "      <td>Sept</td>\n",
       "      <td>Sept</td>\n",
       "    </tr>\n",
       "    <tr>\n",
       "      <th>is_promo</th>\n",
       "      <td>1</td>\n",
       "      <td>1</td>\n",
       "      <td>1</td>\n",
       "      <td>1</td>\n",
       "      <td>1</td>\n",
       "    </tr>\n",
       "  </tbody>\n",
       "</table>\n",
       "</div>"
      ],
      "text/plain": [
       "                                           722375               328256  \\\n",
       "store                                         641                  302   \n",
       "day_of_week                                     7                    3   \n",
       "date                          2013-09-22 00:00:00  2014-09-24 00:00:00   \n",
       "sales                                           0                 2697   \n",
       "customers                                       0                  239   \n",
       "open                                            0                    1   \n",
       "promo                                           0                    0   \n",
       "state_holiday                                   0                    0   \n",
       "school_holiday                                  0                    0   \n",
       "store_type                                      a                    d   \n",
       "assortment                                      c                    c   \n",
       "competition_distance                        610.0               2190.0   \n",
       "competition_open_since_month                 12.0                 12.0   \n",
       "competition_open_since_year                2003.0               2007.0   \n",
       "promo2                                          1                    1   \n",
       "promo2_since_week                            36.0                  9.0   \n",
       "promo2_since_year                          2013.0               2011.0   \n",
       "promo_interval                   Mar,Jun,Sept,Dec     Mar,Jun,Sept,Dec   \n",
       "month_map                                    Sept                 Sept   \n",
       "is_promo                                        1                    1   \n",
       "\n",
       "                                           729849               724480  \\\n",
       "store                                         310                  516   \n",
       "day_of_week                                     7                    5   \n",
       "date                          2013-09-15 00:00:00  2013-09-20 00:00:00   \n",
       "sales                                        2960                 3354   \n",
       "customers                                     255                  539   \n",
       "open                                            1                    1   \n",
       "promo                                           0                    0   \n",
       "state_holiday                                   0                    0   \n",
       "school_holiday                                  0                    0   \n",
       "store_type                                      a                    a   \n",
       "assortment                                      c                    c   \n",
       "competition_distance                       2290.0                 20.0   \n",
       "competition_open_since_month                  9.0                  9.0   \n",
       "competition_open_since_year                2013.0               2013.0   \n",
       "promo2                                          1                    1   \n",
       "promo2_since_week                            10.0                 35.0   \n",
       "promo2_since_year                          2014.0               2010.0   \n",
       "promo_interval                   Mar,Jun,Sept,Dec     Mar,Jun,Sept,Dec   \n",
       "month_map                                    Sept                 Sept   \n",
       "is_promo                                        1                    1   \n",
       "\n",
       "                                           721634  \n",
       "store                                        1015  \n",
       "day_of_week                                     1  \n",
       "date                          2013-09-23 00:00:00  \n",
       "sales                                        6558  \n",
       "customers                                     520  \n",
       "open                                            1  \n",
       "promo                                           1  \n",
       "state_holiday                                   0  \n",
       "school_holiday                                  0  \n",
       "store_type                                      d  \n",
       "assortment                                      c  \n",
       "competition_distance                       9910.0  \n",
       "competition_open_since_month                 12.0  \n",
       "competition_open_since_year                2010.0  \n",
       "promo2                                          1  \n",
       "promo2_since_week                             9.0  \n",
       "promo2_since_year                          2011.0  \n",
       "promo_interval                   Mar,Jun,Sept,Dec  \n",
       "month_map                                    Sept  \n",
       "is_promo                                        1  "
      ]
     },
     "execution_count": 31,
     "metadata": {},
     "output_type": "execute_result"
    }
   ],
   "source": [
    "# O comando abaixo verifica uma determinada condição. Fiz este comando porque havia escrito 'Sep' em vez de 'Sept' na list\n",
    "# month_map o que estava causando uma diferença nos valores do descriptive statistical.\n",
    "# O comando abaixo cria um dataset df_teste que contem o valor Sept na coluna month_map e que contém a string 'Sept' no valor\n",
    "# da coluna promo_interval.\n",
    "df_teste = df1[(df1['month_map'] == 'Sept') & (df1['promo_interval'].str.contains('Sept'))]\n",
    "df_teste.sample(5).T"
   ]
  },
  {
   "cell_type": "code",
   "execution_count": 32,
   "id": "914efd89",
   "metadata": {
    "ExecuteTime": {
     "end_time": "2021-07-03T02:12:56.414597Z",
     "start_time": "2021-07-03T02:12:56.352385Z"
    }
   },
   "outputs": [
    {
     "data": {
      "text/html": [
       "<div>\n",
       "<style scoped>\n",
       "    .dataframe tbody tr th:only-of-type {\n",
       "        vertical-align: middle;\n",
       "    }\n",
       "\n",
       "    .dataframe tbody tr th {\n",
       "        vertical-align: top;\n",
       "    }\n",
       "\n",
       "    .dataframe thead th {\n",
       "        text-align: right;\n",
       "    }\n",
       "</style>\n",
       "<table border=\"1\" class=\"dataframe\">\n",
       "  <thead>\n",
       "    <tr style=\"text-align: right;\">\n",
       "      <th></th>\n",
       "      <th>23974</th>\n",
       "      <th>1003201</th>\n",
       "      <th>491311</th>\n",
       "      <th>296327</th>\n",
       "      <th>862530</th>\n",
       "    </tr>\n",
       "  </thead>\n",
       "  <tbody>\n",
       "    <tr>\n",
       "      <th>store</th>\n",
       "      <td>560</td>\n",
       "      <td>487</td>\n",
       "      <td>382</td>\n",
       "      <td>128</td>\n",
       "      <td>306</td>\n",
       "    </tr>\n",
       "    <tr>\n",
       "      <th>day_of_week</th>\n",
       "      <td>5</td>\n",
       "      <td>7</td>\n",
       "      <td>4</td>\n",
       "      <td>2</td>\n",
       "      <td>7</td>\n",
       "    </tr>\n",
       "    <tr>\n",
       "      <th>date</th>\n",
       "      <td>2015-07-10 00:00:00</td>\n",
       "      <td>2013-01-13 00:00:00</td>\n",
       "      <td>2014-04-17 00:00:00</td>\n",
       "      <td>2014-10-28 00:00:00</td>\n",
       "      <td>2013-05-19 00:00:00</td>\n",
       "    </tr>\n",
       "    <tr>\n",
       "      <th>sales</th>\n",
       "      <td>13351</td>\n",
       "      <td>0</td>\n",
       "      <td>11566</td>\n",
       "      <td>6857</td>\n",
       "      <td>0</td>\n",
       "    </tr>\n",
       "    <tr>\n",
       "      <th>customers</th>\n",
       "      <td>1634</td>\n",
       "      <td>0</td>\n",
       "      <td>962</td>\n",
       "      <td>538</td>\n",
       "      <td>0</td>\n",
       "    </tr>\n",
       "    <tr>\n",
       "      <th>open</th>\n",
       "      <td>1</td>\n",
       "      <td>0</td>\n",
       "      <td>1</td>\n",
       "      <td>1</td>\n",
       "      <td>0</td>\n",
       "    </tr>\n",
       "    <tr>\n",
       "      <th>promo</th>\n",
       "      <td>0</td>\n",
       "      <td>0</td>\n",
       "      <td>1</td>\n",
       "      <td>0</td>\n",
       "      <td>0</td>\n",
       "    </tr>\n",
       "    <tr>\n",
       "      <th>state_holiday</th>\n",
       "      <td>0</td>\n",
       "      <td>0</td>\n",
       "      <td>0</td>\n",
       "      <td>0</td>\n",
       "      <td>0</td>\n",
       "    </tr>\n",
       "    <tr>\n",
       "      <th>school_holiday</th>\n",
       "      <td>0</td>\n",
       "      <td>0</td>\n",
       "      <td>1</td>\n",
       "      <td>1</td>\n",
       "      <td>0</td>\n",
       "    </tr>\n",
       "    <tr>\n",
       "      <th>store_type</th>\n",
       "      <td>c</td>\n",
       "      <td>d</td>\n",
       "      <td>c</td>\n",
       "      <td>d</td>\n",
       "      <td>a</td>\n",
       "    </tr>\n",
       "    <tr>\n",
       "      <th>assortment</th>\n",
       "      <td>c</td>\n",
       "      <td>c</td>\n",
       "      <td>c</td>\n",
       "      <td>c</td>\n",
       "      <td>a</td>\n",
       "    </tr>\n",
       "    <tr>\n",
       "      <th>competition_distance</th>\n",
       "      <td>1910.0</td>\n",
       "      <td>2180.0</td>\n",
       "      <td>26130.0</td>\n",
       "      <td>2000.0</td>\n",
       "      <td>5100.0</td>\n",
       "    </tr>\n",
       "    <tr>\n",
       "      <th>competition_open_since_month</th>\n",
       "      <td>7.0</td>\n",
       "      <td>9.0</td>\n",
       "      <td>11.0</td>\n",
       "      <td>10.0</td>\n",
       "      <td>4.0</td>\n",
       "    </tr>\n",
       "    <tr>\n",
       "      <th>competition_open_since_year</th>\n",
       "      <td>2013.0</td>\n",
       "      <td>2012.0</td>\n",
       "      <td>2002.0</td>\n",
       "      <td>2014.0</td>\n",
       "      <td>2007.0</td>\n",
       "    </tr>\n",
       "    <tr>\n",
       "      <th>promo2</th>\n",
       "      <td>0</td>\n",
       "      <td>1</td>\n",
       "      <td>0</td>\n",
       "      <td>1</td>\n",
       "      <td>1</td>\n",
       "    </tr>\n",
       "    <tr>\n",
       "      <th>promo2_since_week</th>\n",
       "      <td>28.0</td>\n",
       "      <td>40.0</td>\n",
       "      <td>16.0</td>\n",
       "      <td>1.0</td>\n",
       "      <td>40.0</td>\n",
       "    </tr>\n",
       "    <tr>\n",
       "      <th>promo2_since_year</th>\n",
       "      <td>2015.0</td>\n",
       "      <td>2012.0</td>\n",
       "      <td>2014.0</td>\n",
       "      <td>2013.0</td>\n",
       "      <td>2014.0</td>\n",
       "    </tr>\n",
       "    <tr>\n",
       "      <th>promo_interval</th>\n",
       "      <td>0</td>\n",
       "      <td>Jan,Apr,Jul,Oct</td>\n",
       "      <td>0</td>\n",
       "      <td>Jan,Apr,Jul,Oct</td>\n",
       "      <td>Jan,Apr,Jul,Oct</td>\n",
       "    </tr>\n",
       "    <tr>\n",
       "      <th>month_map</th>\n",
       "      <td>Jul</td>\n",
       "      <td>Jan</td>\n",
       "      <td>Apr</td>\n",
       "      <td>Oct</td>\n",
       "      <td>May</td>\n",
       "    </tr>\n",
       "    <tr>\n",
       "      <th>is_promo</th>\n",
       "      <td>0</td>\n",
       "      <td>1</td>\n",
       "      <td>0</td>\n",
       "      <td>1</td>\n",
       "      <td>0</td>\n",
       "    </tr>\n",
       "  </tbody>\n",
       "</table>\n",
       "</div>"
      ],
      "text/plain": [
       "                                          23974                1003201  \\\n",
       "store                                         560                  487   \n",
       "day_of_week                                     5                    7   \n",
       "date                          2015-07-10 00:00:00  2013-01-13 00:00:00   \n",
       "sales                                       13351                    0   \n",
       "customers                                    1634                    0   \n",
       "open                                            1                    0   \n",
       "promo                                           0                    0   \n",
       "state_holiday                                   0                    0   \n",
       "school_holiday                                  0                    0   \n",
       "store_type                                      c                    d   \n",
       "assortment                                      c                    c   \n",
       "competition_distance                       1910.0               2180.0   \n",
       "competition_open_since_month                  7.0                  9.0   \n",
       "competition_open_since_year                2013.0               2012.0   \n",
       "promo2                                          0                    1   \n",
       "promo2_since_week                            28.0                 40.0   \n",
       "promo2_since_year                          2015.0               2012.0   \n",
       "promo_interval                                  0      Jan,Apr,Jul,Oct   \n",
       "month_map                                     Jul                  Jan   \n",
       "is_promo                                        0                    1   \n",
       "\n",
       "                                          491311               296327   \\\n",
       "store                                         382                  128   \n",
       "day_of_week                                     4                    2   \n",
       "date                          2014-04-17 00:00:00  2014-10-28 00:00:00   \n",
       "sales                                       11566                 6857   \n",
       "customers                                     962                  538   \n",
       "open                                            1                    1   \n",
       "promo                                           1                    0   \n",
       "state_holiday                                   0                    0   \n",
       "school_holiday                                  1                    1   \n",
       "store_type                                      c                    d   \n",
       "assortment                                      c                    c   \n",
       "competition_distance                      26130.0               2000.0   \n",
       "competition_open_since_month                 11.0                 10.0   \n",
       "competition_open_since_year                2002.0               2014.0   \n",
       "promo2                                          0                    1   \n",
       "promo2_since_week                            16.0                  1.0   \n",
       "promo2_since_year                          2014.0               2013.0   \n",
       "promo_interval                                  0      Jan,Apr,Jul,Oct   \n",
       "month_map                                     Apr                  Oct   \n",
       "is_promo                                        0                    1   \n",
       "\n",
       "                                          862530   \n",
       "store                                         306  \n",
       "day_of_week                                     7  \n",
       "date                          2013-05-19 00:00:00  \n",
       "sales                                           0  \n",
       "customers                                       0  \n",
       "open                                            0  \n",
       "promo                                           0  \n",
       "state_holiday                                   0  \n",
       "school_holiday                                  0  \n",
       "store_type                                      a  \n",
       "assortment                                      a  \n",
       "competition_distance                       5100.0  \n",
       "competition_open_since_month                  4.0  \n",
       "competition_open_since_year                2007.0  \n",
       "promo2                                          1  \n",
       "promo2_since_week                            40.0  \n",
       "promo2_since_year                          2014.0  \n",
       "promo_interval                    Jan,Apr,Jul,Oct  \n",
       "month_map                                     May  \n",
       "is_promo                                        0  "
      ]
     },
     "execution_count": 32,
     "metadata": {},
     "output_type": "execute_result"
    }
   ],
   "source": [
    "# O comando abaixo exibe 5 amostras de linhas, onde cada amostra é exibida em uma coluna.\n",
    "df1.sample(5).T"
   ]
  },
  {
   "cell_type": "code",
   "execution_count": 33,
   "id": "25451eda",
   "metadata": {
    "ExecuteTime": {
     "end_time": "2021-07-03T02:12:56.635347Z",
     "start_time": "2021-07-03T02:12:56.415596Z"
    }
   },
   "outputs": [
    {
     "data": {
      "text/plain": [
       "store                           0\n",
       "day_of_week                     0\n",
       "date                            0\n",
       "sales                           0\n",
       "customers                       0\n",
       "open                            0\n",
       "promo                           0\n",
       "state_holiday                   0\n",
       "school_holiday                  0\n",
       "store_type                      0\n",
       "assortment                      0\n",
       "competition_distance            0\n",
       "competition_open_since_month    0\n",
       "competition_open_since_year     0\n",
       "promo2                          0\n",
       "promo2_since_week               0\n",
       "promo2_since_year               0\n",
       "promo_interval                  0\n",
       "month_map                       0\n",
       "is_promo                        0\n",
       "dtype: int64"
      ]
     },
     "execution_count": 33,
     "metadata": {},
     "output_type": "execute_result"
    }
   ],
   "source": [
    "df1.isna().sum()"
   ]
  },
  {
   "cell_type": "markdown",
   "id": "a7beac92",
   "metadata": {},
   "source": [
    "## 1.6 Change Type"
   ]
  },
  {
   "cell_type": "code",
   "execution_count": 34,
   "id": "719a2374",
   "metadata": {
    "ExecuteTime": {
     "end_time": "2021-07-03T02:12:56.651174Z",
     "start_time": "2021-07-03T02:12:56.636211Z"
    },
    "scrolled": true
   },
   "outputs": [
    {
     "data": {
      "text/plain": [
       "store                                    int64\n",
       "day_of_week                              int64\n",
       "date                            datetime64[ns]\n",
       "sales                                    int64\n",
       "customers                                int64\n",
       "open                                     int64\n",
       "promo                                    int64\n",
       "state_holiday                           object\n",
       "school_holiday                           int64\n",
       "store_type                              object\n",
       "assortment                              object\n",
       "competition_distance                   float64\n",
       "competition_open_since_month           float64\n",
       "competition_open_since_year            float64\n",
       "promo2                                   int64\n",
       "promo2_since_week                      float64\n",
       "promo2_since_year                      float64\n",
       "promo_interval                          object\n",
       "month_map                               object\n",
       "is_promo                                 int64\n",
       "dtype: object"
      ]
     },
     "execution_count": 34,
     "metadata": {},
     "output_type": "execute_result"
    }
   ],
   "source": [
    "df1.dtypes"
   ]
  },
  {
   "cell_type": "code",
   "execution_count": 35,
   "id": "89d6084b",
   "metadata": {
    "ExecuteTime": {
     "end_time": "2021-07-03T02:12:56.728234Z",
     "start_time": "2021-07-03T02:12:56.652172Z"
    }
   },
   "outputs": [],
   "source": [
    "# Altera os valores das colunas abaixo de float para int64.\n",
    "df1['competition_open_since_month'] = df1['competition_open_since_month'].astype(int64)\n",
    "df1['competition_open_since_year'] = df1['competition_open_since_year'].astype(int64)\n",
    "df1['promo2_since_week'] = df1['promo2_since_week'].astype(int64)\n",
    "df1['promo2_since_year'] = df1['promo2_since_year'].astype(int64)"
   ]
  },
  {
   "cell_type": "code",
   "execution_count": 36,
   "id": "44582283",
   "metadata": {
    "ExecuteTime": {
     "end_time": "2021-07-03T02:12:56.744217Z",
     "start_time": "2021-07-03T02:12:56.729232Z"
    }
   },
   "outputs": [
    {
     "data": {
      "text/plain": [
       "store                                    int64\n",
       "day_of_week                              int64\n",
       "date                            datetime64[ns]\n",
       "sales                                    int64\n",
       "customers                                int64\n",
       "open                                     int64\n",
       "promo                                    int64\n",
       "state_holiday                           object\n",
       "school_holiday                           int64\n",
       "store_type                              object\n",
       "assortment                              object\n",
       "competition_distance                   float64\n",
       "competition_open_since_month             int64\n",
       "competition_open_since_year              int64\n",
       "promo2                                   int64\n",
       "promo2_since_week                        int64\n",
       "promo2_since_year                        int64\n",
       "promo_interval                          object\n",
       "month_map                               object\n",
       "is_promo                                 int64\n",
       "dtype: object"
      ]
     },
     "execution_count": 36,
     "metadata": {},
     "output_type": "execute_result"
    }
   ],
   "source": [
    "df1.dtypes"
   ]
  },
  {
   "cell_type": "code",
   "execution_count": 37,
   "id": "74bdf001",
   "metadata": {
    "ExecuteTime": {
     "end_time": "2021-07-03T02:12:56.866056Z",
     "start_time": "2021-07-03T02:12:56.746186Z"
    }
   },
   "outputs": [
    {
     "data": {
      "text/html": [
       "<div>\n",
       "<style scoped>\n",
       "    .dataframe tbody tr th:only-of-type {\n",
       "        vertical-align: middle;\n",
       "    }\n",
       "\n",
       "    .dataframe tbody tr th {\n",
       "        vertical-align: top;\n",
       "    }\n",
       "\n",
       "    .dataframe thead th {\n",
       "        text-align: right;\n",
       "    }\n",
       "</style>\n",
       "<table border=\"1\" class=\"dataframe\">\n",
       "  <thead>\n",
       "    <tr style=\"text-align: right;\">\n",
       "      <th></th>\n",
       "      <th>639685</th>\n",
       "      <th>474924</th>\n",
       "      <th>894352</th>\n",
       "      <th>816336</th>\n",
       "      <th>104811</th>\n",
       "    </tr>\n",
       "  </thead>\n",
       "  <tbody>\n",
       "    <tr>\n",
       "      <th>store</th>\n",
       "      <td>461</td>\n",
       "      <td>720</td>\n",
       "      <td>908</td>\n",
       "      <td>942</td>\n",
       "      <td>2</td>\n",
       "    </tr>\n",
       "    <tr>\n",
       "      <th>day_of_week</th>\n",
       "      <td>4</td>\n",
       "      <td>5</td>\n",
       "      <td>7</td>\n",
       "      <td>7</td>\n",
       "      <td>2</td>\n",
       "    </tr>\n",
       "    <tr>\n",
       "      <th>date</th>\n",
       "      <td>2013-12-05 00:00:00</td>\n",
       "      <td>2014-05-02 00:00:00</td>\n",
       "      <td>2013-04-21 00:00:00</td>\n",
       "      <td>2013-06-30 00:00:00</td>\n",
       "      <td>2015-04-28 00:00:00</td>\n",
       "    </tr>\n",
       "    <tr>\n",
       "      <th>sales</th>\n",
       "      <td>5526</td>\n",
       "      <td>9916</td>\n",
       "      <td>0</td>\n",
       "      <td>0</td>\n",
       "      <td>6861</td>\n",
       "    </tr>\n",
       "    <tr>\n",
       "      <th>customers</th>\n",
       "      <td>521</td>\n",
       "      <td>893</td>\n",
       "      <td>0</td>\n",
       "      <td>0</td>\n",
       "      <td>678</td>\n",
       "    </tr>\n",
       "    <tr>\n",
       "      <th>open</th>\n",
       "      <td>1</td>\n",
       "      <td>1</td>\n",
       "      <td>0</td>\n",
       "      <td>0</td>\n",
       "      <td>1</td>\n",
       "    </tr>\n",
       "    <tr>\n",
       "      <th>promo</th>\n",
       "      <td>1</td>\n",
       "      <td>1</td>\n",
       "      <td>0</td>\n",
       "      <td>0</td>\n",
       "      <td>1</td>\n",
       "    </tr>\n",
       "    <tr>\n",
       "      <th>state_holiday</th>\n",
       "      <td>0</td>\n",
       "      <td>0</td>\n",
       "      <td>0</td>\n",
       "      <td>0</td>\n",
       "      <td>0</td>\n",
       "    </tr>\n",
       "    <tr>\n",
       "      <th>school_holiday</th>\n",
       "      <td>0</td>\n",
       "      <td>1</td>\n",
       "      <td>0</td>\n",
       "      <td>0</td>\n",
       "      <td>0</td>\n",
       "    </tr>\n",
       "    <tr>\n",
       "      <th>store_type</th>\n",
       "      <td>d</td>\n",
       "      <td>a</td>\n",
       "      <td>a</td>\n",
       "      <td>d</td>\n",
       "      <td>a</td>\n",
       "    </tr>\n",
       "    <tr>\n",
       "      <th>assortment</th>\n",
       "      <td>c</td>\n",
       "      <td>c</td>\n",
       "      <td>a</td>\n",
       "      <td>c</td>\n",
       "      <td>a</td>\n",
       "    </tr>\n",
       "    <tr>\n",
       "      <th>competition_distance</th>\n",
       "      <td>1790.0</td>\n",
       "      <td>15320.0</td>\n",
       "      <td>1980.0</td>\n",
       "      <td>6860.0</td>\n",
       "      <td>570.0</td>\n",
       "    </tr>\n",
       "    <tr>\n",
       "      <th>competition_open_since_month</th>\n",
       "      <td>7</td>\n",
       "      <td>3</td>\n",
       "      <td>7</td>\n",
       "      <td>6</td>\n",
       "      <td>11</td>\n",
       "    </tr>\n",
       "    <tr>\n",
       "      <th>competition_open_since_year</th>\n",
       "      <td>2013</td>\n",
       "      <td>2011</td>\n",
       "      <td>2010</td>\n",
       "      <td>2013</td>\n",
       "      <td>2007</td>\n",
       "    </tr>\n",
       "    <tr>\n",
       "      <th>promo2</th>\n",
       "      <td>1</td>\n",
       "      <td>1</td>\n",
       "      <td>1</td>\n",
       "      <td>1</td>\n",
       "      <td>1</td>\n",
       "    </tr>\n",
       "    <tr>\n",
       "      <th>promo2_since_week</th>\n",
       "      <td>40</td>\n",
       "      <td>14</td>\n",
       "      <td>37</td>\n",
       "      <td>18</td>\n",
       "      <td>13</td>\n",
       "    </tr>\n",
       "    <tr>\n",
       "      <th>promo2_since_year</th>\n",
       "      <td>2013</td>\n",
       "      <td>2013</td>\n",
       "      <td>2009</td>\n",
       "      <td>2011</td>\n",
       "      <td>2010</td>\n",
       "    </tr>\n",
       "    <tr>\n",
       "      <th>promo_interval</th>\n",
       "      <td>Jan,Apr,Jul,Oct</td>\n",
       "      <td>Feb,May,Aug,Nov</td>\n",
       "      <td>Jan,Apr,Jul,Oct</td>\n",
       "      <td>Jan,Apr,Jul,Oct</td>\n",
       "      <td>Jan,Apr,Jul,Oct</td>\n",
       "    </tr>\n",
       "    <tr>\n",
       "      <th>month_map</th>\n",
       "      <td>Dec</td>\n",
       "      <td>May</td>\n",
       "      <td>Apr</td>\n",
       "      <td>Jun</td>\n",
       "      <td>Apr</td>\n",
       "    </tr>\n",
       "    <tr>\n",
       "      <th>is_promo</th>\n",
       "      <td>0</td>\n",
       "      <td>1</td>\n",
       "      <td>1</td>\n",
       "      <td>0</td>\n",
       "      <td>1</td>\n",
       "    </tr>\n",
       "  </tbody>\n",
       "</table>\n",
       "</div>"
      ],
      "text/plain": [
       "                                           639685               474924  \\\n",
       "store                                         461                  720   \n",
       "day_of_week                                     4                    5   \n",
       "date                          2013-12-05 00:00:00  2014-05-02 00:00:00   \n",
       "sales                                        5526                 9916   \n",
       "customers                                     521                  893   \n",
       "open                                            1                    1   \n",
       "promo                                           1                    1   \n",
       "state_holiday                                   0                    0   \n",
       "school_holiday                                  0                    1   \n",
       "store_type                                      d                    a   \n",
       "assortment                                      c                    c   \n",
       "competition_distance                       1790.0              15320.0   \n",
       "competition_open_since_month                    7                    3   \n",
       "competition_open_since_year                  2013                 2011   \n",
       "promo2                                          1                    1   \n",
       "promo2_since_week                              40                   14   \n",
       "promo2_since_year                            2013                 2013   \n",
       "promo_interval                    Jan,Apr,Jul,Oct      Feb,May,Aug,Nov   \n",
       "month_map                                     Dec                  May   \n",
       "is_promo                                        0                    1   \n",
       "\n",
       "                                           894352               816336  \\\n",
       "store                                         908                  942   \n",
       "day_of_week                                     7                    7   \n",
       "date                          2013-04-21 00:00:00  2013-06-30 00:00:00   \n",
       "sales                                           0                    0   \n",
       "customers                                       0                    0   \n",
       "open                                            0                    0   \n",
       "promo                                           0                    0   \n",
       "state_holiday                                   0                    0   \n",
       "school_holiday                                  0                    0   \n",
       "store_type                                      a                    d   \n",
       "assortment                                      a                    c   \n",
       "competition_distance                       1980.0               6860.0   \n",
       "competition_open_since_month                    7                    6   \n",
       "competition_open_since_year                  2010                 2013   \n",
       "promo2                                          1                    1   \n",
       "promo2_since_week                              37                   18   \n",
       "promo2_since_year                            2009                 2011   \n",
       "promo_interval                    Jan,Apr,Jul,Oct      Jan,Apr,Jul,Oct   \n",
       "month_map                                     Apr                  Jun   \n",
       "is_promo                                        1                    0   \n",
       "\n",
       "                                           104811  \n",
       "store                                           2  \n",
       "day_of_week                                     2  \n",
       "date                          2015-04-28 00:00:00  \n",
       "sales                                        6861  \n",
       "customers                                     678  \n",
       "open                                            1  \n",
       "promo                                           1  \n",
       "state_holiday                                   0  \n",
       "school_holiday                                  0  \n",
       "store_type                                      a  \n",
       "assortment                                      a  \n",
       "competition_distance                        570.0  \n",
       "competition_open_since_month                   11  \n",
       "competition_open_since_year                  2007  \n",
       "promo2                                          1  \n",
       "promo2_since_week                              13  \n",
       "promo2_since_year                            2010  \n",
       "promo_interval                    Jan,Apr,Jul,Oct  \n",
       "month_map                                     Apr  \n",
       "is_promo                                        1  "
      ]
     },
     "execution_count": 37,
     "metadata": {},
     "output_type": "execute_result"
    }
   ],
   "source": [
    "df1.sample(5).T"
   ]
  },
  {
   "cell_type": "markdown",
   "id": "14a22b73",
   "metadata": {},
   "source": [
    "## 1.7 Descriptive Statistical"
   ]
  },
  {
   "cell_type": "code",
   "execution_count": 38,
   "id": "d420b242",
   "metadata": {
    "ExecuteTime": {
     "end_time": "2021-07-03T02:12:56.961744Z",
     "start_time": "2021-07-03T02:12:56.866864Z"
    }
   },
   "outputs": [],
   "source": [
    "# Primeiro devemos separar os dados númericos dos dados categóricos em diferentes dataset.\n",
    "# No exemplo abaixo, foi criado um dataset num_attributes para armazenar os valores numéricos e um dataset chamado\n",
    "# cat_attributes para armazenar os valores categóricos (exclui números inteiros, float e data).\n",
    "num_attributes = df1.select_dtypes(include=['int64', 'float64'])\n",
    "cat_attributes = df1.select_dtypes(exclude=['int64', 'float64', 'datetime64[ns]'])"
   ]
  },
  {
   "cell_type": "markdown",
   "id": "7b68f6f4",
   "metadata": {},
   "source": [
    "### 1.7.1 Numerical Attributes"
   ]
  },
  {
   "cell_type": "code",
   "execution_count": 39,
   "id": "753cfa18",
   "metadata": {
    "ExecuteTime": {
     "end_time": "2021-07-03T02:12:57.890229Z",
     "start_time": "2021-07-03T02:12:56.964733Z"
    }
   },
   "outputs": [],
   "source": [
    "# Central Tendency - mean, median\n",
    "ct1 = pd.DataFrame(num_attributes.apply(np.mean)).T  # Calcula a média.\n",
    "ct2 = pd.DataFrame(num_attributes.apply(np.median)).T  # Calcula a mediana.\n",
    "\n",
    "# Dispersion - std, min, max, range(max-min), skew, kurtosis\n",
    "d1 = pd.DataFrame(num_attributes.apply(np.std)).T\n",
    "d2 = pd.DataFrame(num_attributes.apply(np.min)).T\n",
    "d3 = pd.DataFrame(num_attributes.apply(np.max)).T\n",
    "d4 = pd.DataFrame(num_attributes.apply(lambda x: x.max() - x.min())).T\n",
    "d5 = pd.DataFrame(num_attributes.apply(lambda x: x.skew())).T\n",
    "d6 = pd.DataFrame(num_attributes.apply(lambda x: x.kurtosis())).T\n",
    "\n",
    "# Concatenate\n",
    "# Concate os dataframes em um único dataframe chamado m.\n",
    "m = pd.concat([d2, d3, d4, ct1, ct2, d1, d5, d6 ]).T.reset_index()\n",
    "\n",
    "# Renomeia as colunas\n",
    "m.columns = ['attributes', 'min', 'max', 'range', 'mean', 'median', 'std', 'skew', 'kurtosis']\n",
    "\n",
    "# O VALOR DE IS_PROMO ESTÁ DIFERENTE DOS VALORES MOSTRADOS NO TREINAMENTO."
   ]
  },
  {
   "cell_type": "code",
   "execution_count": 40,
   "id": "9c075e9d",
   "metadata": {
    "ExecuteTime": {
     "end_time": "2021-07-03T02:12:57.921661Z",
     "start_time": "2021-07-03T02:12:57.891783Z"
    }
   },
   "outputs": [
    {
     "data": {
      "text/html": [
       "<div>\n",
       "<style scoped>\n",
       "    .dataframe tbody tr th:only-of-type {\n",
       "        vertical-align: middle;\n",
       "    }\n",
       "\n",
       "    .dataframe tbody tr th {\n",
       "        vertical-align: top;\n",
       "    }\n",
       "\n",
       "    .dataframe thead th {\n",
       "        text-align: right;\n",
       "    }\n",
       "</style>\n",
       "<table border=\"1\" class=\"dataframe\">\n",
       "  <thead>\n",
       "    <tr style=\"text-align: right;\">\n",
       "      <th></th>\n",
       "      <th>attributes</th>\n",
       "      <th>min</th>\n",
       "      <th>max</th>\n",
       "      <th>range</th>\n",
       "      <th>mean</th>\n",
       "      <th>median</th>\n",
       "      <th>std</th>\n",
       "      <th>skew</th>\n",
       "      <th>kurtosis</th>\n",
       "    </tr>\n",
       "  </thead>\n",
       "  <tbody>\n",
       "    <tr>\n",
       "      <th>0</th>\n",
       "      <td>store</td>\n",
       "      <td>1.0</td>\n",
       "      <td>1115.0</td>\n",
       "      <td>1114.0</td>\n",
       "      <td>558.429727</td>\n",
       "      <td>558.0</td>\n",
       "      <td>321.908493</td>\n",
       "      <td>-0.000955</td>\n",
       "      <td>-1.200524</td>\n",
       "    </tr>\n",
       "    <tr>\n",
       "      <th>1</th>\n",
       "      <td>day_of_week</td>\n",
       "      <td>1.0</td>\n",
       "      <td>7.0</td>\n",
       "      <td>6.0</td>\n",
       "      <td>3.998341</td>\n",
       "      <td>4.0</td>\n",
       "      <td>1.997390</td>\n",
       "      <td>0.001593</td>\n",
       "      <td>-1.246873</td>\n",
       "    </tr>\n",
       "    <tr>\n",
       "      <th>2</th>\n",
       "      <td>sales</td>\n",
       "      <td>0.0</td>\n",
       "      <td>41551.0</td>\n",
       "      <td>41551.0</td>\n",
       "      <td>5773.818972</td>\n",
       "      <td>5744.0</td>\n",
       "      <td>3849.924283</td>\n",
       "      <td>0.641460</td>\n",
       "      <td>1.778375</td>\n",
       "    </tr>\n",
       "    <tr>\n",
       "      <th>3</th>\n",
       "      <td>customers</td>\n",
       "      <td>0.0</td>\n",
       "      <td>7388.0</td>\n",
       "      <td>7388.0</td>\n",
       "      <td>633.145946</td>\n",
       "      <td>609.0</td>\n",
       "      <td>464.411506</td>\n",
       "      <td>1.598650</td>\n",
       "      <td>7.091773</td>\n",
       "    </tr>\n",
       "    <tr>\n",
       "      <th>4</th>\n",
       "      <td>open</td>\n",
       "      <td>0.0</td>\n",
       "      <td>1.0</td>\n",
       "      <td>1.0</td>\n",
       "      <td>0.830107</td>\n",
       "      <td>1.0</td>\n",
       "      <td>0.375539</td>\n",
       "      <td>-1.758045</td>\n",
       "      <td>1.090723</td>\n",
       "    </tr>\n",
       "    <tr>\n",
       "      <th>5</th>\n",
       "      <td>promo</td>\n",
       "      <td>0.0</td>\n",
       "      <td>1.0</td>\n",
       "      <td>1.0</td>\n",
       "      <td>0.381515</td>\n",
       "      <td>0.0</td>\n",
       "      <td>0.485758</td>\n",
       "      <td>0.487838</td>\n",
       "      <td>-1.762018</td>\n",
       "    </tr>\n",
       "    <tr>\n",
       "      <th>6</th>\n",
       "      <td>school_holiday</td>\n",
       "      <td>0.0</td>\n",
       "      <td>1.0</td>\n",
       "      <td>1.0</td>\n",
       "      <td>0.178647</td>\n",
       "      <td>0.0</td>\n",
       "      <td>0.383056</td>\n",
       "      <td>1.677842</td>\n",
       "      <td>0.815154</td>\n",
       "    </tr>\n",
       "    <tr>\n",
       "      <th>7</th>\n",
       "      <td>competition_distance</td>\n",
       "      <td>20.0</td>\n",
       "      <td>200000.0</td>\n",
       "      <td>199980.0</td>\n",
       "      <td>5935.442677</td>\n",
       "      <td>2330.0</td>\n",
       "      <td>12547.646829</td>\n",
       "      <td>10.242344</td>\n",
       "      <td>147.789712</td>\n",
       "    </tr>\n",
       "    <tr>\n",
       "      <th>8</th>\n",
       "      <td>competition_open_since_month</td>\n",
       "      <td>1.0</td>\n",
       "      <td>12.0</td>\n",
       "      <td>11.0</td>\n",
       "      <td>6.786849</td>\n",
       "      <td>7.0</td>\n",
       "      <td>3.311085</td>\n",
       "      <td>-0.042076</td>\n",
       "      <td>-1.232607</td>\n",
       "    </tr>\n",
       "    <tr>\n",
       "      <th>9</th>\n",
       "      <td>competition_open_since_year</td>\n",
       "      <td>1900.0</td>\n",
       "      <td>2015.0</td>\n",
       "      <td>115.0</td>\n",
       "      <td>2010.324840</td>\n",
       "      <td>2012.0</td>\n",
       "      <td>5.515591</td>\n",
       "      <td>-7.235657</td>\n",
       "      <td>124.071304</td>\n",
       "    </tr>\n",
       "    <tr>\n",
       "      <th>10</th>\n",
       "      <td>promo2</td>\n",
       "      <td>0.0</td>\n",
       "      <td>1.0</td>\n",
       "      <td>1.0</td>\n",
       "      <td>0.500564</td>\n",
       "      <td>1.0</td>\n",
       "      <td>0.500000</td>\n",
       "      <td>-0.002255</td>\n",
       "      <td>-1.999999</td>\n",
       "    </tr>\n",
       "    <tr>\n",
       "      <th>11</th>\n",
       "      <td>promo2_since_week</td>\n",
       "      <td>1.0</td>\n",
       "      <td>52.0</td>\n",
       "      <td>51.0</td>\n",
       "      <td>23.619033</td>\n",
       "      <td>22.0</td>\n",
       "      <td>14.310057</td>\n",
       "      <td>0.178723</td>\n",
       "      <td>-1.184046</td>\n",
       "    </tr>\n",
       "    <tr>\n",
       "      <th>12</th>\n",
       "      <td>promo2_since_year</td>\n",
       "      <td>2009.0</td>\n",
       "      <td>2015.0</td>\n",
       "      <td>6.0</td>\n",
       "      <td>2012.793297</td>\n",
       "      <td>2013.0</td>\n",
       "      <td>1.662657</td>\n",
       "      <td>-0.784436</td>\n",
       "      <td>-0.210075</td>\n",
       "    </tr>\n",
       "    <tr>\n",
       "      <th>13</th>\n",
       "      <td>is_promo</td>\n",
       "      <td>0.0</td>\n",
       "      <td>1.0</td>\n",
       "      <td>1.0</td>\n",
       "      <td>0.171835</td>\n",
       "      <td>0.0</td>\n",
       "      <td>0.377237</td>\n",
       "      <td>1.739838</td>\n",
       "      <td>1.027039</td>\n",
       "    </tr>\n",
       "  </tbody>\n",
       "</table>\n",
       "</div>"
      ],
      "text/plain": [
       "                      attributes     min       max     range         mean  \\\n",
       "0                          store     1.0    1115.0    1114.0   558.429727   \n",
       "1                    day_of_week     1.0       7.0       6.0     3.998341   \n",
       "2                          sales     0.0   41551.0   41551.0  5773.818972   \n",
       "3                      customers     0.0    7388.0    7388.0   633.145946   \n",
       "4                           open     0.0       1.0       1.0     0.830107   \n",
       "5                          promo     0.0       1.0       1.0     0.381515   \n",
       "6                 school_holiday     0.0       1.0       1.0     0.178647   \n",
       "7           competition_distance    20.0  200000.0  199980.0  5935.442677   \n",
       "8   competition_open_since_month     1.0      12.0      11.0     6.786849   \n",
       "9    competition_open_since_year  1900.0    2015.0     115.0  2010.324840   \n",
       "10                        promo2     0.0       1.0       1.0     0.500564   \n",
       "11             promo2_since_week     1.0      52.0      51.0    23.619033   \n",
       "12             promo2_since_year  2009.0    2015.0       6.0  2012.793297   \n",
       "13                      is_promo     0.0       1.0       1.0     0.171835   \n",
       "\n",
       "    median           std       skew    kurtosis  \n",
       "0    558.0    321.908493  -0.000955   -1.200524  \n",
       "1      4.0      1.997390   0.001593   -1.246873  \n",
       "2   5744.0   3849.924283   0.641460    1.778375  \n",
       "3    609.0    464.411506   1.598650    7.091773  \n",
       "4      1.0      0.375539  -1.758045    1.090723  \n",
       "5      0.0      0.485758   0.487838   -1.762018  \n",
       "6      0.0      0.383056   1.677842    0.815154  \n",
       "7   2330.0  12547.646829  10.242344  147.789712  \n",
       "8      7.0      3.311085  -0.042076   -1.232607  \n",
       "9   2012.0      5.515591  -7.235657  124.071304  \n",
       "10     1.0      0.500000  -0.002255   -1.999999  \n",
       "11    22.0     14.310057   0.178723   -1.184046  \n",
       "12  2013.0      1.662657  -0.784436   -0.210075  \n",
       "13     0.0      0.377237   1.739838    1.027039  "
      ]
     },
     "execution_count": 40,
     "metadata": {},
     "output_type": "execute_result"
    }
   ],
   "source": [
    "m"
   ]
  },
  {
   "cell_type": "code",
   "execution_count": 41,
   "id": "bbb8f94f",
   "metadata": {
    "ExecuteTime": {
     "end_time": "2021-07-03T02:12:57.937618Z",
     "start_time": "2021-07-03T02:12:57.923656Z"
    }
   },
   "outputs": [],
   "source": [
    "# skew: é uma medidade de quanto assimetrico está uma distribuição.\n",
    "# https://medium.com/@atanudan/kurtosis-skew-function-in-pandas-aa63d72e20de\n",
    "# Em uma distribuição normal, a média divide a curva simetricamente em duas partes iguais na mediana e o valor da assimetria\n",
    "# é zero.\n",
    "# Quando uma distribuição é assimétrica, a cauda da distribuição é inclinada para um lado para a direita ou para a esquerda.\n",
    "# Quando o valor da assimetria é negativo, a cauda da distribuição é mais longa para o lado esquerdo da curva.\n",
    "# Quando o valor da assimetria é positivo, a cauda da distribuição é mais longa para o lado direito da curva.\n",
    "\n",
    "# Se a assimetria estiver entre -0,5 e 0,5, os dados são bastante simétricos.\n",
    "# Se a assimetria estiver entre -1 e - 0,5 ou entre 0,5 e 1, os dados estão moderadamente inclinados.\n",
    "# Se a assimetria for menor que -1 ou maior que 1, os dados estão altamente inclinados.\n",
    "\n",
    "# O exemplo abaixo exibe a distribuição da coluna competition_distance, onde podemos observar a cauda da distribuição para\n",
    "# o lado direito, correspondendo ao valor do skew positivo próximo de 10."
   ]
  },
  {
   "cell_type": "code",
   "execution_count": 42,
   "id": "bbaabbfb",
   "metadata": {
    "ExecuteTime": {
     "end_time": "2021-07-03T02:13:07.832093Z",
     "start_time": "2021-07-03T02:12:57.939611Z"
    }
   },
   "outputs": [
    {
     "name": "stderr",
     "output_type": "stream",
     "text": [
      "C:\\Users\\adriano.clemente\\Anaconda3\\envs\\DataScienceEmProducao\\lib\\site-packages\\seaborn\\distributions.py:2557: FutureWarning: `distplot` is a deprecated function and will be removed in a future version. Please adapt your code to use either `displot` (a figure-level function with similar flexibility) or `histplot` (an axes-level function for histograms).\n",
      "  warnings.warn(msg, FutureWarning)\n"
     ]
    },
    {
     "data": {
      "text/plain": [
       "<AxesSubplot:xlabel='competition_distance', ylabel='Density'>"
      ]
     },
     "execution_count": 42,
     "metadata": {},
     "output_type": "execute_result"
    },
    {
     "data": {
      "image/png": "[encoded data removed]",
      "text/plain": [
       "<Figure size 432x288 with 1 Axes>"
      ]
     },
     "metadata": {
      "needs_background": "light"
     },
     "output_type": "display_data"
    }
   ],
   "source": [
    "# A função distplot do seaborn exibe a distribuição dos dados.\n",
    "sns.distplot(df1['competition_distance'])"
   ]
  },
  {
   "cell_type": "code",
   "execution_count": 43,
   "id": "28cf3b94",
   "metadata": {
    "ExecuteTime": {
     "end_time": "2021-07-03T02:13:07.848187Z",
     "start_time": "2021-07-03T02:13:07.833060Z"
    }
   },
   "outputs": [],
   "source": [
    "# kurtosis: é uma das duas medidas que quantificam a forma de uma distribuição.\n",
    "# kurtosis determina o volume de outliers, descrevendo o pico da distribuição.\n",
    "\n",
    "# Se a distribuição for alta e fina, é chamada de distribuição leptocúrtica (kurtosis > 3). Os valores em uma distribuição\n",
    "# leptocúrtica estão próximos da média ou nos extremos.\n",
    "# Uma distribuição plana onde os valores são moderadamente espalhados (isto é, ao contrário da leptocúrtica) é chamada de \n",
    "# distribuição platicúrtica (kurtosis <3).\n",
    "# Uma distribuição cuja forma está entre uma distribuição leptocúrtica e uma distribuição platicúrtica é chamada de\n",
    "# distribuição mesocúrtica (kurtosis = 3). Uma distribuição mesocúrtica parece mais próxima de uma distribuição normal.\n",
    "\n",
    "# É a nitidez do pico de uma curva de distribuição de frequência. É a medida dos outliers presentes na distribuição.\n",
    "# Uma alta kurtosis em um conjunto de dados é um indicador de que os dados possuem muitos outliers.\n",
    "# Uma baixa kurtosis em um conjunto de dados é um indicador de que os dados possuem poucos outliers."
   ]
  },
  {
   "cell_type": "code",
   "execution_count": 44,
   "id": "847d2964",
   "metadata": {
    "ExecuteTime": {
     "end_time": "2021-07-03T02:13:17.008732Z",
     "start_time": "2021-07-03T02:13:07.849218Z"
    }
   },
   "outputs": [
    {
     "name": "stderr",
     "output_type": "stream",
     "text": [
      "C:\\Users\\adriano.clemente\\Anaconda3\\envs\\DataScienceEmProducao\\lib\\site-packages\\seaborn\\distributions.py:2557: FutureWarning: `distplot` is a deprecated function and will be removed in a future version. Please adapt your code to use either `displot` (a figure-level function with similar flexibility) or `histplot` (an axes-level function for histograms).\n",
      "  warnings.warn(msg, FutureWarning)\n"
     ]
    },
    {
     "data": {
      "text/plain": [
       "<AxesSubplot:xlabel='customers', ylabel='Density'>"
      ]
     },
     "execution_count": 44,
     "metadata": {},
     "output_type": "execute_result"
    },
    {
     "data": {
      "image/png": "[encoded data removed]",
      "text/plain": [
       "<Figure size 432x288 with 1 Axes>"
      ]
     },
     "metadata": {
      "needs_background": "light"
     },
     "output_type": "display_data"
    }
   ],
   "source": [
    "sns.distplot(df1['customers'])"
   ]
  },
  {
   "cell_type": "code",
   "execution_count": 45,
   "id": "17d72edc",
   "metadata": {
    "ExecuteTime": {
     "end_time": "2021-07-03T02:13:25.371333Z",
     "start_time": "2021-07-03T02:13:17.010728Z"
    }
   },
   "outputs": [
    {
     "name": "stderr",
     "output_type": "stream",
     "text": [
      "C:\\Users\\adriano.clemente\\Anaconda3\\envs\\DataScienceEmProducao\\lib\\site-packages\\seaborn\\distributions.py:2557: FutureWarning: `distplot` is a deprecated function and will be removed in a future version. Please adapt your code to use either `displot` (a figure-level function with similar flexibility) or `histplot` (an axes-level function for histograms).\n",
      "  warnings.warn(msg, FutureWarning)\n"
     ]
    },
    {
     "data": {
      "text/plain": [
       "<AxesSubplot:xlabel='sales', ylabel='Density'>"
      ]
     },
     "execution_count": 45,
     "metadata": {},
     "output_type": "execute_result"
    },
    {
     "data": {
      "image/png": "[encoded data removed]",
      "text/plain": [
       "<Figure size 432x288 with 1 Axes>"
      ]
     },
     "metadata": {
      "needs_background": "light"
     },
     "output_type": "display_data"
    }
   ],
   "source": [
    "sns.distplot(df1['sales'])"
   ]
  },
  {
   "cell_type": "markdown",
   "id": "6e7a56c8",
   "metadata": {
    "ExecuteTime": {
     "end_time": "2021-07-01T21:34:22.173281Z",
     "start_time": "2021-07-01T21:34:22.169293Z"
    }
   },
   "source": [
    "### 1.7.2 Categorical Attributes"
   ]
  },
  {
   "cell_type": "code",
   "execution_count": 46,
   "id": "25518f5e",
   "metadata": {
    "ExecuteTime": {
     "end_time": "2021-07-03T02:13:25.968349Z",
     "start_time": "2021-07-03T02:13:25.372204Z"
    }
   },
   "outputs": [
    {
     "data": {
      "text/plain": [
       "<AxesSubplot:xlabel='state_holiday', ylabel='sales'>"
      ]
     },
     "execution_count": 46,
     "metadata": {},
     "output_type": "execute_result"
    },
    {
     "data": {
      "image/png": "[encoded data removed]",
      "text/plain": [
       "<Figure size 432x288 with 1 Axes>"
      ]
     },
     "metadata": {
      "needs_background": "light"
     },
     "output_type": "display_data"
    }
   ],
   "source": [
    "# Iremos utilizar boxplot para exibir a distribuiçãdo dos dados categóricos.\n",
    "# O exemplo abaixo exibe a distribuição das vendas de acordo com os feriados.\n",
    "sns.boxplot(x='state_holiday', y='sales', data=df1)"
   ]
  },
  {
   "cell_type": "code",
   "execution_count": 47,
   "id": "ff45d0c6",
   "metadata": {
    "ExecuteTime": {
     "end_time": "2021-07-03T02:13:26.489966Z",
     "start_time": "2021-07-03T02:13:25.970343Z"
    }
   },
   "outputs": [
    {
     "data": {
      "text/plain": [
       "<AxesSubplot:xlabel='assortment', ylabel='sales'>"
      ]
     },
     "execution_count": 47,
     "metadata": {},
     "output_type": "execute_result"
    },
    {
     "data": {
      "image/png": "[encoded data removed]",
      "text/plain": [
       "<Figure size 1440x720 with 3 Axes>"
      ]
     },
     "metadata": {
      "needs_background": "light"
     },
     "output_type": "display_data"
    }
   ],
   "source": [
    "# O exemplo acima exibe uma distribuição muito dispersa dos dados, pois a dimensão das variáveis está muito diferente.\n",
    "# Isto é muito provavel de ocorrer, pois temos dias que são feriados, onde a loja está fechada e consequentemente a quantidade\n",
    "# de vendas é zero.\n",
    "# Neste caso, a coluna 0 que representa dias sem feriados possui um volume de vendas bem maior que as outras três colunas\n",
    "# a, b e c que são feriados: a = public holiday, b = Easter holiday, c = Christmas.\n",
    "# Desta maneira, iremos criar dois boxplots separados, um para os dias normais e outro para os feriados.\n",
    "# O exemplo abaixo considera os dias que são feriados, onde a loja estava aberta, isto é, com vendas diferentes de zero.\n",
    "aux1 = df1[(df1['state_holiday'] != '0') & (df1['sales'] > 0)]\n",
    "\n",
    "plt.figure(figsize=(20,10))\n",
    "\n",
    "plt.subplot (1,3,1)  # Uma linha, três colunas e primeira posição.\n",
    "sns.boxplot(x='state_holiday', y='sales', data=aux1)\n",
    "\n",
    "plt.subplot (1,3,2)  # Uma linha, três colunas e segunda posição.\n",
    "sns.boxplot(x='store_type', y='sales', data=aux1)\n",
    "\n",
    "plt.subplot (1,3,3)  # Uma linha, três colunas e terceira posição.\n",
    "sns.boxplot(x='assortment', y='sales', data=aux1)"
   ]
  },
  {
   "cell_type": "code",
   "execution_count": 49,
   "id": "c3a22bdb",
   "metadata": {
    "ExecuteTime": {
     "end_time": "2021-07-03T02:13:55.646187Z",
     "start_time": "2021-07-03T02:13:53.905360Z"
    }
   },
   "outputs": [
    {
     "data": {
      "text/plain": [
       "<AxesSubplot:xlabel='assortment', ylabel='sales'>"
      ]
     },
     "execution_count": 49,
     "metadata": {},
     "output_type": "execute_result"
    },
    {
     "data": {
      "image/png": "[encoded data removed]",
      "text/plain": [
       "<Figure size 1440x720 with 3 Axes>"
      ]
     },
     "metadata": {
      "needs_background": "light"
     },
     "output_type": "display_data"
    }
   ],
   "source": [
    "# O exemplo acima exibe uma distribuição muito dispersa dos dados, pois a dimensão das variáveis está muito diferente.\n",
    "# Isto é muito provavel de ocorrer, pois temos dias que são feriados, onde a loja está fechada e consequentemente a quantidade\n",
    "# de vendas é zero.\n",
    "# Neste caso, a coluna 0 que representa dias sem feriados possui um volume de vendas bem maior que as outras três colunas\n",
    "# a, b e c que são feriados: a = public holiday, b = Easter holiday, c = Christmas.\n",
    "# Desta maneira, iremos criar dois boxplots separados, um para os dias normais e outro para os feriados.\n",
    "# O exemplo abaixo considera os dias que não são feriados, onde a loja estava aberta, isto é, com vendas diferentes de zero.\n",
    "aux2 = df1[(df1['state_holiday'] == '0') & (df1['sales'] > 0)]\n",
    "\n",
    "plt.figure(figsize=(20,10))\n",
    "\n",
    "plt.subplot (1,3,1)  # Uma linha, três colunas e primeira posição.\n",
    "sns.boxplot(x='state_holiday', y='sales', data=aux2)\n",
    "\n",
    "plt.subplot (1,3,2)  # Uma linha, três colunas e segunda posição.\n",
    "sns.boxplot(x='store_type', y='sales', data=aux2)\n",
    "\n",
    "plt.subplot (1,3,3)  # Uma linha, três colunas e terceira posição.\n",
    "sns.boxplot(x='assortment', y='sales', data=aux2)"
   ]
  },
  {
   "cell_type": "code",
   "execution_count": 48,
   "id": "5351551e",
   "metadata": {
    "ExecuteTime": {
     "end_time": "2021-07-03T02:13:26.505073Z",
     "start_time": "2021-07-03T02:13:26.490954Z"
    }
   },
   "outputs": [],
   "source": [
    "# A linha do meio representa a mediana (quartil 50).\n",
    "# A linha inferior da caixa é o auartil 25.\n",
    "# A linha superior da caixa é o quartil 75.\n",
    "# A barra supeior é o valor máximo.\n",
    "# A barra inferior é o valor mínimo.\n",
    "# Os pontos acima e abaixo das barras são os outliers. Os dados são considerados outliers quando possuem três vezes o valor do\n",
    "# desvio padrão."
   ]
  },
  {
   "cell_type": "code",
   "execution_count": null,
   "id": "5167ac16",
   "metadata": {},
   "outputs": [],
   "source": []
  }
 ],
 "metadata": {
  "kernelspec": {
   "display_name": "Python 3",
   "language": "python",
   "name": "python3"
  },
  "language_info": {
   "codemirror_mode": {
    "name": "ipython",
    "version": 3
   },
   "file_extension": ".py",
   "mimetype": "text/x-python",
   "name": "python",
   "nbconvert_exporter": "python",
   "pygments_lexer": "ipython3",
   "version": "3.8.10"
  }
 },
 "nbformat": 4,
 "nbformat_minor": 5
}
